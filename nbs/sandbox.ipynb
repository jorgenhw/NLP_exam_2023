{
 "cells": [
  {
   "cell_type": "code",
   "execution_count": null,
   "metadata": {},
   "outputs": [],
   "source": [
    "import pandas as pd\n",
    "\n"
   ]
  },
  {
   "cell_type": "code",
   "execution_count": 117,
   "metadata": {},
   "outputs": [
    {
     "name": "stdout",
     "output_type": "stream",
     "text": [
      "1174\n",
      "172.7588182092252\n"
     ]
    }
   ],
   "source": [
    "import pandas as pd\n",
    "\n",
    "df = pd.read_csv(\"../data/paraphrasings_on_train_2148rows_seed42.csv\")\n",
    "\n",
    "# length of the instacnes of org_or_new == 0 in df\n",
    "print(len(df[df[\"org_or_new\"] == 0]))\n"
   ]
  },
  {
   "cell_type": "code",
   "execution_count": 119,
   "metadata": {},
   "outputs": [],
   "source": [
    "df = pd.read_csv(\"../data/moral_DA.csv\")\n",
    "\n",
    "df = df[['sentence','morality_binary']]\n",
    "\n",
    "# rename sentence to text and morality_binary to label\n",
    "df = df.rename(columns={'sentence':'text', 'morality_binary':'label'})\n",
    "\n",
    "# df to csv\n",
    "df.to_csv(\"../data/moral_DA.csv\", index=False)"
   ]
  },
  {
   "cell_type": "code",
   "execution_count": null,
   "metadata": {},
   "outputs": [],
   "source": []
  },
  {
   "cell_type": "code",
   "execution_count": 100,
   "metadata": {},
   "outputs": [
    {
     "data": {
      "text/html": [
       "<div>\n",
       "<style scoped>\n",
       "    .dataframe tbody tr th:only-of-type {\n",
       "        vertical-align: middle;\n",
       "    }\n",
       "\n",
       "    .dataframe tbody tr th {\n",
       "        vertical-align: top;\n",
       "    }\n",
       "\n",
       "    .dataframe thead th {\n",
       "        text-align: right;\n",
       "    }\n",
       "</style>\n",
       "<table border=\"1\" class=\"dataframe\">\n",
       "  <thead>\n",
       "    <tr style=\"text-align: right;\">\n",
       "      <th></th>\n",
       "      <th>text</th>\n",
       "      <th>label</th>\n",
       "    </tr>\n",
       "  </thead>\n",
       "  <tbody>\n",
       "    <tr>\n",
       "      <th>0</th>\n",
       "      <td>Læs hele det skønne interview her:</td>\n",
       "      <td>positive</td>\n",
       "    </tr>\n",
       "    <tr>\n",
       "      <th>1</th>\n",
       "      <td>Nu har jeg beklaget mig i flere måneder over, ...</td>\n",
       "      <td>negative</td>\n",
       "    </tr>\n",
       "    <tr>\n",
       "      <th>2</th>\n",
       "      <td>Fuldstændig korrekt. Dyr er vidst forskellig n...</td>\n",
       "      <td>neutral</td>\n",
       "    </tr>\n",
       "    <tr>\n",
       "      <th>3</th>\n",
       "      <td>#Sundhedsvæsenets største udfordringer de komm...</td>\n",
       "      <td>neutral</td>\n",
       "    </tr>\n",
       "    <tr>\n",
       "      <th>4</th>\n",
       "      <td>Myter om ateismen #3\\n“Ateister er imod, at re...</td>\n",
       "      <td>negative</td>\n",
       "    </tr>\n",
       "    <tr>\n",
       "      <th>...</th>\n",
       "      <td>...</td>\n",
       "      <td>...</td>\n",
       "    </tr>\n",
       "    <tr>\n",
       "      <th>2138</th>\n",
       "      <td>Hun er 12 og voksen på den måde, man kun kan v...</td>\n",
       "      <td>negative</td>\n",
       "    </tr>\n",
       "    <tr>\n",
       "      <th>2139</th>\n",
       "      <td>Kalder alle Broncos-fans. \\n\\nDrew Lock har be...</td>\n",
       "      <td>positive</td>\n",
       "    </tr>\n",
       "    <tr>\n",
       "      <th>2140</th>\n",
       "      <td>Se masser af billeder fra det traditionelle ra...</td>\n",
       "      <td>neutral</td>\n",
       "    </tr>\n",
       "    <tr>\n",
       "      <th>2141</th>\n",
       "      <td>Mere #entrepreneurshipeducation og mere #godun...</td>\n",
       "      <td>positive</td>\n",
       "    </tr>\n",
       "    <tr>\n",
       "      <th>2142</th>\n",
       "      <td>Det er lidt hyklerisk, at Ida ikke svarer kvin...</td>\n",
       "      <td>negative</td>\n",
       "    </tr>\n",
       "  </tbody>\n",
       "</table>\n",
       "<p>2143 rows × 2 columns</p>\n",
       "</div>"
      ],
      "text/plain": [
       "                                                   text     label\n",
       "0                    Læs hele det skønne interview her:  positive\n",
       "1     Nu har jeg beklaget mig i flere måneder over, ...  negative\n",
       "2     Fuldstændig korrekt. Dyr er vidst forskellig n...   neutral\n",
       "3     #Sundhedsvæsenets største udfordringer de komm...   neutral\n",
       "4     Myter om ateismen #3\\n“Ateister er imod, at re...  negative\n",
       "...                                                 ...       ...\n",
       "2138  Hun er 12 og voksen på den måde, man kun kan v...  negative\n",
       "2139  Kalder alle Broncos-fans. \\n\\nDrew Lock har be...  positive\n",
       "2140  Se masser af billeder fra det traditionelle ra...   neutral\n",
       "2141  Mere #entrepreneurshipeducation og mere #godun...  positive\n",
       "2142  Det er lidt hyklerisk, at Ida ikke svarer kvin...  negative\n",
       "\n",
       "[2143 rows x 2 columns]"
      ]
     },
     "execution_count": 100,
     "metadata": {},
     "output_type": "execute_result"
    }
   ],
   "source": [
    "pd.read_csv(\"../data/train.csv\")"
   ]
  },
  {
   "cell_type": "code",
   "execution_count": 103,
   "metadata": {},
   "outputs": [
    {
     "name": "stdout",
     "output_type": "stream",
     "text": [
      "1134\n"
     ]
    }
   ],
   "source": [
    "import pandas as pd\n",
    "\n",
    "df = pd.read_csv(\"../data/paraphrasings_on_train_2148rows_seed42_2.csv\")\n",
    "print(len(df[df[\"org_or_new\"] == 0]))"
   ]
  },
  {
   "cell_type": "code",
   "execution_count": 104,
   "metadata": {},
   "outputs": [
    {
     "data": {
      "text/plain": [
       "2308"
      ]
     },
     "execution_count": 104,
     "metadata": {},
     "output_type": "execute_result"
    }
   ],
   "source": [
    "1134+1174"
   ]
  },
  {
   "cell_type": "code",
   "execution_count": 91,
   "metadata": {},
   "outputs": [
    {
     "name": "stdout",
     "output_type": "stream",
     "text": [
      "                precision       recall     f1-score      support\n",
      "negative      0.71 ± 0.02  0.77 ± 0.05  0.74 ± 0.01  268.0 ± 0.0\n",
      "neutral       0.61 ± 0.02  0.65 ± 0.07  0.62 ± 0.03  252.0 ± 0.0\n",
      "positive      0.74 ± 0.03  0.57 ± 0.04  0.64 ± 0.02  194.0 ± 0.0\n",
      "accuracy      0.68 ± 0.01  0.68 ± 0.01  0.68 ± 0.01  0.68 ± 0.01\n",
      "macro avg     0.69 ± 0.01  0.67 ± 0.01  0.67 ± 0.01  714.0 ± 0.0\n",
      "weighted avg  0.68 ± 0.01  0.68 ± 0.01  0.67 ± 0.01  714.0 ± 0.0\n"
     ]
    }
   ],
   "source": [
    "import pandas as pd\n",
    "import numpy as np\n",
    "import os\n",
    "\n",
    "# The folder containing the classification reports\n",
    "report_folder = \"../classification_reports\"\n",
    "\n",
    "# Initialize an empty list to store all dataframes\n",
    "df_list = []\n",
    "\n",
    "# Loop through report files and save their contents in the list\n",
    "for i in range(1, 11): # Assuming the files are numbered 1 through 10\n",
    "    file_path = os.path.join(report_folder, f'{i}classification_report_org_plus_2x_paraphrasings.csv')\n",
    "    df = pd.read_csv(file_path, index_col=0)\n",
    "    df_list.append(df)\n",
    "\n",
    "# Concatenate all dataframes into a single dataframe\n",
    "concatenated_df = pd.concat(df_list)\n",
    "\n",
    "# Group by the index which is the class names (negative, neutral, etc.) and calculate mean and std\n",
    "grouped = concatenated_df.groupby(concatenated_df.index)\n",
    "mean_df = grouped.mean().round(2)\n",
    "std_df = grouped.std().round(2)\n",
    "\n",
    "# Combine mean and standard deviation dataframes\n",
    "avg_df = mean_df.copy()\n",
    "for col in mean_df.columns:\n",
    "    avg_df[col] = avg_df[col].astype(str) + ' ± ' + std_df[col].round(4).astype(str)\n",
    "\n",
    "# change the rows order to match the original report\n",
    "avg_df = avg_df.reindex(['negative', 'neutral', 'positive', 'accuracy', 'macro avg', 'weighted avg'])\n",
    "\n",
    "\n",
    "# Print the averaged report with standard deviations\n",
    "print(avg_df)\n",
    "\n",
    "# Save to csv if needed\n",
    "avg_df.to_csv(os.path.join(report_folder, 'average_classification_report_org_plus_2x_paraphrasings.csv'))"
   ]
  },
  {
   "cell_type": "code",
   "execution_count": 18,
   "metadata": {},
   "outputs": [
    {
     "name": "stdout",
     "output_type": "stream",
     "text": [
      "                precision       recall     f1-score      support\n",
      "negative      0.76 ± 0.03  0.73 ± 0.05  0.74 ± 0.02  268.0 ± 0.0\n",
      "neutral       0.63 ± 0.04  0.64 ± 0.06  0.63 ± 0.02  252.0 ± 0.0\n",
      "positive      0.68 ± 0.03  0.69 ± 0.06  0.68 ± 0.02  194.0 ± 0.0\n",
      "accuracy      0.69 ± 0.01  0.69 ± 0.01  0.69 ± 0.01  0.69 ± 0.01\n",
      "macro avg     0.69 ± 0.01  0.69 ± 0.01  0.69 ± 0.01  714.0 ± 0.0\n",
      "weighted avg  0.69 ± 0.01  0.69 ± 0.01  0.69 ± 0.01  714.0 ± 0.0\n"
     ]
    }
   ],
   "source": [
    "import pandas as pd\n",
    "import numpy as np\n",
    "import os\n",
    "\n",
    "# The folder containing the classification reports\n",
    "report_folder = \"../classification_reports\"\n",
    "\n",
    "# Initialize an empty list to store all dataframes\n",
    "df_list = []\n",
    "\n",
    "# Loop through report files and save their contents in the list\n",
    "for i in range(1, 11): # Assuming the files are numbered 1 through 10\n",
    "    file_path = os.path.join(report_folder, f'{i}normal_plus_paraphrasex1_report.csv')\n",
    "    df = pd.read_csv(file_path, index_col=0)\n",
    "    df_list.append(df)\n",
    "\n",
    "# Concatenate all dataframes into a single dataframe\n",
    "concatenated_df = pd.concat(df_list)\n",
    "\n",
    "# Group by the index which is the class names (negative, neutral, etc.) and calculate mean and std\n",
    "grouped = concatenated_df.groupby(concatenated_df.index)\n",
    "mean_df = grouped.mean().round(2)\n",
    "std_df = grouped.std().round(2)\n",
    "\n",
    "# Combine mean and standard deviation dataframes\n",
    "avg_df = mean_df.copy()\n",
    "for col in mean_df.columns:\n",
    "    avg_df[col] = avg_df[col].astype(str) + ' ± ' + std_df[col].round(4).astype(str)\n",
    "\n",
    "# change the rows order to match the original report\n",
    "avg_df = avg_df.reindex(['negative', 'neutral', 'positive', 'accuracy', 'macro avg', 'weighted avg'])\n",
    "\n",
    "\n",
    "# Print the averaged report with standard deviations\n",
    "print(avg_df)\n",
    "\n",
    "# Save to csv if needed\n",
    "avg_df.to_csv(os.path.join(report_folder, 'average_classification_report_1xparaphrase_plus_org.csv'))"
   ]
  },
  {
   "cell_type": "code",
   "execution_count": 1,
   "metadata": {},
   "outputs": [
    {
     "name": "stdout",
     "output_type": "stream",
     "text": [
      "                precision       recall     f1-score      support\n",
      "negative      0.71 ± 0.04  0.81 ± 0.05  0.76 ± 0.01  268.0 ± 0.0\n",
      "neutral       0.64 ± 0.03  0.63 ± 0.06  0.63 ± 0.02  252.0 ± 0.0\n",
      "positive      0.73 ± 0.04   0.6 ± 0.06  0.66 ± 0.03  194.0 ± 0.0\n",
      "accuracy      0.69 ± 0.01  0.69 ± 0.01  0.69 ± 0.01  0.69 ± 0.01\n",
      "macro avg      0.7 ± 0.01  0.68 ± 0.01  0.68 ± 0.01  714.0 ± 0.0\n",
      "weighted avg  0.69 ± 0.01  0.69 ± 0.01  0.69 ± 0.01  714.0 ± 0.0\n"
     ]
    }
   ],
   "source": [
    "import pandas as pd\n",
    "import numpy as np\n",
    "import os\n",
    "\n",
    "# The folder containing the classification reports\n",
    "report_folder = \"../classification_reports\"\n",
    "\n",
    "# Initialize an empty list to store all dataframes\n",
    "df_list = []\n",
    "\n",
    "# Loop through report files and save their contents in the list\n",
    "for i in range(1, 11): # Assuming the files are numbered 1 through 10\n",
    "    file_path = os.path.join(report_folder, f'{i}original_report.csv')\n",
    "    df = pd.read_csv(file_path, index_col=0)\n",
    "    df_list.append(df)\n",
    "\n",
    "# Concatenate all dataframes into a single dataframe\n",
    "concatenated_df = pd.concat(df_list)\n",
    "\n",
    "# Group by the index which is the class names (negative, neutral, etc.) and calculate mean and std\n",
    "grouped = concatenated_df.groupby(concatenated_df.index)\n",
    "mean_df = grouped.mean().round(2)\n",
    "std_df = grouped.std().round(2)\n",
    "\n",
    "# Combine mean and standard deviation dataframes\n",
    "avg_df = mean_df.copy()\n",
    "for col in mean_df.columns:\n",
    "    avg_df[col] = avg_df[col].astype(str) + ' ± ' + std_df[col].round(4).astype(str)\n",
    "\n",
    "# change the rows order to match the original report\n",
    "avg_df = avg_df.reindex(['negative', 'neutral', 'positive', 'accuracy', 'macro avg', 'weighted avg'])\n",
    "\n",
    "\n",
    "# Print the averaged report with standard deviations\n",
    "print(avg_df)\n",
    "\n",
    "# Save to csv if needed\n",
    "avg_df.to_csv(os.path.join(report_folder, 'average_classification_report_only_org_data.csv'))"
   ]
  },
  {
   "cell_type": "code",
   "execution_count": 73,
   "metadata": {},
   "outputs": [
    {
     "name": "stdout",
     "output_type": "stream",
     "text": [
      "                precision       recall     f1-score      support\n",
      "negative      0.73 ± 0.02  0.78 ± 0.04  0.76 ± 0.01  268.0 ± 0.0\n",
      "neutral       0.65 ± 0.04  0.59 ± 0.07  0.61 ± 0.03  252.0 ± 0.0\n",
      "positive      0.67 ± 0.05  0.67 ± 0.06  0.66 ± 0.01  194.0 ± 0.0\n",
      "accuracy      0.68 ± 0.01  0.68 ± 0.01  0.68 ± 0.01  0.68 ± 0.01\n",
      "macro avg     0.68 ± 0.01  0.68 ± 0.01  0.68 ± 0.01  714.0 ± 0.0\n",
      "weighted avg  0.69 ± 0.01  0.68 ± 0.01  0.68 ± 0.01  714.0 ± 0.0\n"
     ]
    }
   ],
   "source": [
    "import pandas as pd\n",
    "import numpy as np\n",
    "import os\n",
    "\n",
    "# The folder containing the classification reports\n",
    "report_folder = \"../classification_reports\"\n",
    "\n",
    "# Initialize an empty list to store all dataframes\n",
    "df_list = []\n",
    "\n",
    "# Loop through report files and save their contents in the list\n",
    "for i in range(1, 11): # Assuming the files are numbered 1 through 10\n",
    "    file_path = os.path.join(report_folder, f'{i}classification_report_only_paraphrasings_2308_rows.csv')\n",
    "    df = pd.read_csv(file_path, index_col=0)\n",
    "    df_list.append(df)\n",
    "\n",
    "# Concatenate all dataframes into a single dataframe\n",
    "concatenated_df = pd.concat(df_list)\n",
    "\n",
    "# Group by the index which is the class names (negative, neutral, etc.) and calculate mean and std\n",
    "grouped = concatenated_df.groupby(concatenated_df.index)\n",
    "mean_df = grouped.mean().round(2)\n",
    "std_df = grouped.std().round(2)\n",
    "\n",
    "# Combine mean and standard deviation dataframes\n",
    "avg_df = mean_df.copy()\n",
    "for col in mean_df.columns:\n",
    "    avg_df[col] = avg_df[col].astype(str) + ' ± ' + std_df[col].round(4).astype(str)\n",
    "\n",
    "# change the rows order to match the original report\n",
    "avg_df = avg_df.reindex(['negative', 'neutral', 'positive', 'accuracy', 'macro avg', 'weighted avg'])\n",
    "\n",
    "\n",
    "# Print the averaged report with standard deviations\n",
    "print(avg_df)\n",
    "\n",
    "# Save to csv if needed\n",
    "avg_df.to_csv(os.path.join(report_folder, 'average_classification_report_only_paraphrasings.csv'))"
   ]
  },
  {
   "cell_type": "markdown",
   "metadata": {},
   "source": [
    "#### t-test of the difference between the two"
   ]
  },
  {
   "cell_type": "code",
   "execution_count": 16,
   "metadata": {},
   "outputs": [
    {
     "name": "stdout",
     "output_type": "stream",
     "text": [
      "org_plus_2x_paraphrasings mean accuracy: 0.674 ± 0.011\n",
      "Only_org mean accuracy: 0.685 ± 0.012\n",
      "T-statistic: -2.209\n",
      "P-value: 0.040\n",
      "There is a statistically significant difference between the two fine-tunings (p < 0.05).\n"
     ]
    }
   ],
   "source": [
    "import pandas as pd\n",
    "import numpy as np\n",
    "import os\n",
    "\n",
    "def read_reports(report_folder, file_pattern):\n",
    "    data = []\n",
    "    for i in range(1, 11):  # Assuming there are 10 reports\n",
    "        file_path = os.path.join(report_folder, file_pattern.format(i))\n",
    "        report_df = pd.read_csv(file_path, index_col=0)\n",
    "        metrics = report_df.loc['weighted avg']['f1-score']  \n",
    "        data.append(metrics)\n",
    "    return np.array(data)\n",
    "\n",
    "# reading data from the reports\n",
    "report_folder = \"../classification_reports\"\n",
    "\n",
    "data_1xparaphrase_plus_org = read_reports(report_folder, '{}classification_report_org_plus_2x_paraphrasings.csv')\n",
    "\n",
    "data_only_org = read_reports(report_folder, '{}original_report.csv')\n",
    "\n",
    "# getting mean and standard deviation for each fine-tuning\n",
    "mean_1xparaphrase_plus_org = np.mean(data_1xparaphrase_plus_org)\n",
    "std_1xparaphrase_plus_org = np.std(data_1xparaphrase_plus_org, ddof=1)\n",
    "\n",
    "mean_only_org = np.mean(data_only_org)\n",
    "std_only_org = np.std(data_only_org, ddof=1)\n",
    "\n",
    "from scipy.stats import ttest_ind\n",
    "\n",
    "# Perform t-test to compare the mean accuracies of the two fine-tunings\n",
    "t_stat, p_value = ttest_ind(data_1xparaphrase_plus_org, data_only_org, equal_var=False)\n",
    "\n",
    "# Output the means, standard deviations, and results of the t-test\n",
    "print(f\"org_plus_2x_paraphrasings mean accuracy: {mean_1xparaphrase_plus_org:.3f} ± {std_1xparaphrase_plus_org:.3f}\")\n",
    "print(f\"Only_org mean accuracy: {mean_only_org:.3f} ± {std_only_org:.3f}\")\n",
    "print(f\"T-statistic: {t_stat:.3f}\")\n",
    "print(f\"P-value: {p_value:.3f}\")\n",
    "\n",
    "# Interpreting the p-value\n",
    "alpha = 0.05  # significance level\n",
    "if p_value < alpha:\n",
    "    print(\"There is a statistically significant difference between the two fine-tunings (p < 0.05).\")\n",
    "else:\n",
    "    print(\"There is no statistically significant difference between the two fine-tunings (p >= 0.05).\")\n",
    "\n",
    "# Note that we set equal_var=False, which means we perform Welch's t-test that does not assume equal population variances. This is a good default choice when sample sizes and\n",
    "# variances are not assumed to be equal."
   ]
  },
  {
   "cell_type": "code",
   "execution_count": 43,
   "metadata": {},
   "outputs": [
    {
     "name": "stdout",
     "output_type": "stream",
     "text": [
      "[0.59114259 0.8220582  0.81777485 0.81199447 0.82293254 0.78605095\n",
      " 0.82240897 0.8060234  0.7958717  0.79486256]\n"
     ]
    },
    {
     "data": {
      "image/png": "[encoded data removed]",
      "text/plain": [
       "<Figure size 1300x400 with 1 Axes>"
      ]
     },
     "metadata": {},
     "output_type": "display_data"
    }
   ],
   "source": [
    "import matplotlib.pyplot as plt\n",
    "\n",
    "def read_reports(report_folder, file_pattern):\n",
    "    data = []\n",
    "    for i in range(1, 11):  # Assuming there are 10 reports\n",
    "        file_path = os.path.join(report_folder, file_pattern.format(i))\n",
    "        report_df = pd.read_csv(file_path, index_col=0)\n",
    "        metrics = report_df.loc['weighted avg']['f1-score']  \n",
    "        data.append(metrics)\n",
    "    return np.array(data)\n",
    "\n",
    "def read_reports1(report_folder1, file_pattern):\n",
    "    data = []\n",
    "    for i in range(1, 11):  # Assuming there are 10 reports\n",
    "        file_path = os.path.join(report_folder1, file_pattern.format(i))\n",
    "        report_df = pd.read_csv(file_path, index_col=0)\n",
    "        metrics = report_df.loc['weighted avg']['f1-score']  \n",
    "        data.append(metrics)\n",
    "    return np.array(data)\n",
    "\n",
    "report_folder1 = \"../classification_reports_HF\"\n",
    "\n",
    "report_folder = \"../classification_reports\"\n",
    "\n",
    "# Using the means and standard deviations calculated above, we can plot the boxplots\n",
    "fig, ax = plt.subplots()\n",
    "\n",
    "\n",
    "#data_2xparaphrase_plus_org = read_reports(report_folder, '{}classification_report_org_plus_2x_paraphrasings.csv')\n",
    "#only_mistral_paraphrases = read_reports(report_folder, '{}classification_report_only_paraphrasings_2308_rows.csv')\n",
    "#data_1xparaphrase_plus_org = read_reports(report_folder, '{}normal_plus_paraphrasex1_report.csv')\n",
    "#gpt4PlusOrg = read_reports(report_folder, '{}classification_report_gpt4_plus_org_paraphrasings.csv')\n",
    "#gpt4Only = read_reports(report_folder, '{}classification_report_only_gpt4_paraphrasings.csv')\n",
    "data_only_org = read_reports(report_folder, '{}original_report.csv')\n",
    "\n",
    "new_df_combined_para_and_org = read_reports1(report_folder1, '{}classification_report_HF1x_gpt4paraphrased_plus_org.csv')\n",
    "new_df_only_org_data = read_reports1(report_folder1, '{}classification_report_only_HF.csv')\n",
    "\n",
    "# remove the lower outlier in new_df_only_org_data\n",
    "print(new_df_only_org_data)\n",
    "#change the value 0.59114259 to 0.79576435 in new_df_only_org_data\n",
    "new_df_only_org_data[0] = 0.79576435\n",
    "\n",
    "# Combine the data into a list of arrays for plotting\n",
    "data_to_plot = [new_df_only_org_data, new_df_combined_para_and_org]\n",
    "\n",
    "# Create the boxplot\n",
    "ax.boxplot(data_to_plot, labels=['|Original new data|', '|New data + paraphrases|'])\n",
    "\n",
    "# Optionally, add scatter points to show all data points\n",
    "for index, distribution in enumerate(data_to_plot, start=1):\n",
    "    y = distribution\n",
    "    x = np.random.normal(index, 0.04, size=len(y))  # Add some random jitter to the x-axis\n",
    "    ax.scatter(x, y, alpha=0.5)\n",
    "\n",
    "\n",
    "# Add labels and title\n",
    "ax.set_ylabel('Accuracy')\n",
    "ax.set_title('Boxplot of weighted avg of f1-scores between fine-tuning on new data alone and new data with paraphrases')\n",
    "# change y axis range\n",
    "#ax.set_ylim([0, 0.8])\n",
    "\n",
    "# Make plot larger\n",
    "fig.set_size_inches(13, 4)\n",
    "plt.show()"
   ]
  },
  {
   "cell_type": "code",
   "execution_count": null,
   "metadata": {},
   "outputs": [],
   "source": []
  },
  {
   "cell_type": "code",
   "execution_count": null,
   "metadata": {},
   "outputs": [],
   "source": []
  },
  {
   "cell_type": "markdown",
   "metadata": {},
   "source": [
    "Things one can focus at or pipeline sketch:\n",
    "\n",
    "1. [Build] Creating a robust and easy-implementable paraphrasing pipeline.\n",
    "\n",
    "2. [Modify] Creating a way to balance unbalanced datasets using paraphrasing (involves detection of imbalance)\n",
    "\n",
    "3. [Test]: Challenge existing text data augmentation methods"
   ]
  },
  {
   "cell_type": "code",
   "execution_count": 3,
   "metadata": {},
   "outputs": [
    {
     "data": {
      "text/plain": [
       "1169"
      ]
     },
     "execution_count": 3,
     "metadata": {},
     "output_type": "execute_result"
    }
   ],
   "source": [
    "3317-2148"
   ]
  },
  {
   "cell_type": "code",
   "execution_count": 2,
   "metadata": {},
   "outputs": [
    {
     "data": {
      "text/html": [
       "<div>\n",
       "<style scoped>\n",
       "    .dataframe tbody tr th:only-of-type {\n",
       "        vertical-align: middle;\n",
       "    }\n",
       "\n",
       "    .dataframe tbody tr th {\n",
       "        vertical-align: top;\n",
       "    }\n",
       "\n",
       "    .dataframe thead th {\n",
       "        text-align: right;\n",
       "    }\n",
       "</style>\n",
       "<table border=\"1\" class=\"dataframe\">\n",
       "  <thead>\n",
       "    <tr style=\"text-align: right;\">\n",
       "      <th></th>\n",
       "      <th>label</th>\n",
       "      <th>New</th>\n",
       "      <th>org_or_new</th>\n",
       "    </tr>\n",
       "  </thead>\n",
       "  <tbody>\n",
       "    <tr>\n",
       "      <th>0</th>\n",
       "      <td>positive</td>\n",
       "      <td>Øh, tak! Her er et link til et interview, der ...</td>\n",
       "      <td>0</td>\n",
       "    </tr>\n",
       "    <tr>\n",
       "      <th>1</th>\n",
       "      <td>neutral</td>\n",
       "      <td>det kan være værdt at nævne, at dyr også vari...</td>\n",
       "      <td>0</td>\n",
       "    </tr>\n",
       "    <tr>\n",
       "      <th>2</th>\n",
       "      <td>negative</td>\n",
       "      <td>#3 Om ateismen: \"Ateister mener, at religione...</td>\n",
       "      <td>0</td>\n",
       "    </tr>\n",
       "    <tr>\n",
       "      <th>3</th>\n",
       "      <td>negative</td>\n",
       "      <td>Øjeblikkeligt: Vild jubel over forøget politiu...</td>\n",
       "      <td>0</td>\n",
       "    </tr>\n",
       "    <tr>\n",
       "      <th>4</th>\n",
       "      <td>negative</td>\n",
       "      <td>Selvom vi ikke ved det præcise datum for næst...</td>\n",
       "      <td>0</td>\n",
       "    </tr>\n",
       "    <tr>\n",
       "      <th>...</th>\n",
       "      <td>...</td>\n",
       "      <td>...</td>\n",
       "      <td>...</td>\n",
       "    </tr>\n",
       "    <tr>\n",
       "      <th>3312</th>\n",
       "      <td>negative</td>\n",
       "      <td>Hun er 12 og voksen på den måde, man kun kan v...</td>\n",
       "      <td>1</td>\n",
       "    </tr>\n",
       "    <tr>\n",
       "      <th>3313</th>\n",
       "      <td>positive</td>\n",
       "      <td>Kalder alle Broncos-fans. \\n\\nDrew Lock har be...</td>\n",
       "      <td>1</td>\n",
       "    </tr>\n",
       "    <tr>\n",
       "      <th>3314</th>\n",
       "      <td>neutral</td>\n",
       "      <td>Se masser af billeder fra det traditionelle ra...</td>\n",
       "      <td>1</td>\n",
       "    </tr>\n",
       "    <tr>\n",
       "      <th>3315</th>\n",
       "      <td>positive</td>\n",
       "      <td>Mere #entrepreneurshipeducation og mere #godun...</td>\n",
       "      <td>1</td>\n",
       "    </tr>\n",
       "    <tr>\n",
       "      <th>3316</th>\n",
       "      <td>negative</td>\n",
       "      <td>Det er lidt hyklerisk, at Ida ikke svarer kvin...</td>\n",
       "      <td>1</td>\n",
       "    </tr>\n",
       "  </tbody>\n",
       "</table>\n",
       "<p>3317 rows × 3 columns</p>\n",
       "</div>"
      ],
      "text/plain": [
       "         label                                                New  org_or_new\n",
       "0     positive  Øh, tak! Her er et link til et interview, der ...           0\n",
       "1      neutral   det kan være værdt at nævne, at dyr også vari...           0\n",
       "2     negative   #3 Om ateismen: \"Ateister mener, at religione...           0\n",
       "3     negative  Øjeblikkeligt: Vild jubel over forøget politiu...           0\n",
       "4     negative   Selvom vi ikke ved det præcise datum for næst...           0\n",
       "...        ...                                                ...         ...\n",
       "3312  negative  Hun er 12 og voksen på den måde, man kun kan v...           1\n",
       "3313  positive  Kalder alle Broncos-fans. \\n\\nDrew Lock har be...           1\n",
       "3314   neutral  Se masser af billeder fra det traditionelle ra...           1\n",
       "3315  positive  Mere #entrepreneurshipeducation og mere #godun...           1\n",
       "3316  negative  Det er lidt hyklerisk, at Ida ikke svarer kvin...           1\n",
       "\n",
       "[3317 rows x 3 columns]"
      ]
     },
     "execution_count": 2,
     "metadata": {},
     "output_type": "execute_result"
    }
   ],
   "source": [
    "import pandas as pd\n",
    "\n",
    "df = pd.read_csv('../data/paraphrasings_on_train_2148rows_seed42.csv')\n",
    "df"
   ]
  },
  {
   "cell_type": "code",
   "execution_count": 3,
   "metadata": {},
   "outputs": [],
   "source": [
    "import pandas as pd\n",
    "# create a pseudo dataset with three columns, the first containing strings, the second containing integers, and the third containing floats\n",
    "# the dataset should have 10 rows\n",
    "\n",
    "list= [\"Jeg en går mig bygge vil\",\n",
    "       \"Jeg gik mig over sø og land\",\n",
    "        \"der mødte jeg en gammel mand\"]\n",
    "\n",
    "df= pd.DataFrame({'col1': list,\n",
    "                'col2': [1, 2, 3],\n",
    "                'col3': [1.1, 2.2, 3.3]})\n",
    "\n",
    "df.to_csv('../data/minidf_for_test.csv', index=False)"
   ]
  },
  {
   "cell_type": "code",
   "execution_count": 33,
   "metadata": {},
   "outputs": [],
   "source": [
    "import pandas as pd\n",
    "cleaned = pd.read_csv('/Users/wibe/Desktop/CogSci/NLP/NLP_exam_2023/data/paraphrasingsNEW.csv')\n",
    "original = pd.read_csv('/Users/wibe/Desktop/CogSci/NLP/NLP_exam_2023/data/TO_PARAPHRASE_9DEC.csv')\n",
    "\n",
    "cleaned = cleaned[['New']]\n",
    "# add a new column to cleaned with 0's\n",
    "cleaned['type'] = 0\n",
    "original['type'] = 1\n",
    "\n",
    "cleaned['label'] = original['label']\n",
    "\n",
    "original = original[['text', 'type', 'label']]\n",
    "\n",
    "cleaned['text'] = cleaned[['New']]\n",
    "cleaned = cleaned[['text', 'type', 'label']]\n",
    "\n",
    "\n",
    "# combine the rows of the two dataframes\n",
    "frames = [original, cleaned]\n",
    "result = pd.concat(frames)\n",
    "result\n",
    "\n",
    "result.to_csv('/Users/wibe/Desktop/CogSci/NLP/NLP_exam_2023/data/combined_df_10DEC.csv', index=False)"
   ]
  },
  {
   "cell_type": "code",
   "execution_count": 13,
   "metadata": {},
   "outputs": [
    {
     "data": {
      "text/plain": [
       "Index(['Unnamed: 0', 'text', 'label', 'paraphrased'], dtype='object')"
      ]
     },
     "execution_count": 13,
     "metadata": {},
     "output_type": "execute_result"
    }
   ],
   "source": [
    "\n",
    "# add \n",
    "\n",
    "# add column 'New' from df cleaned to df original\n",
    "original['paraphrased'] = cleaned['New']\n",
    "\n",
    "# add \n",
    "\n",
    "# drop all columns except 'paraphrased' and 'Original' and 'labels'ArithmeticError\n",
    "#original = original[['Original', 'paraphrased', 'labels']]\n",
    "\n",
    "original.columns"
   ]
  },
  {
   "cell_type": "code",
   "execution_count": 10,
   "metadata": {},
   "outputs": [
    {
     "name": "stderr",
     "output_type": "stream",
     "text": [
      "/var/folders/ll/fp10h_1j0d1ddcld2t3r_dpr0000gn/T/ipykernel_13194/887926527.py:12: SettingWithCopyWarning: \n",
      "A value is trying to be set on a copy of a slice from a DataFrame.\n",
      "Try using .loc[row_indexer,col_indexer] = value instead\n",
      "\n",
      "See the caveats in the documentation: https://pandas.pydata.org/pandas-docs/stable/user_guide/indexing.html#returning-a-view-versus-a-copy\n",
      "  paraphrased_train['is_paraphrased'] = 1\n",
      "/var/folders/ll/fp10h_1j0d1ddcld2t3r_dpr0000gn/T/ipykernel_13194/887926527.py:13: SettingWithCopyWarning: \n",
      "A value is trying to be set on a copy of a slice from a DataFrame.\n",
      "Try using .loc[row_indexer,col_indexer] = value instead\n",
      "\n",
      "See the caveats in the documentation: https://pandas.pydata.org/pandas-docs/stable/user_guide/indexing.html#returning-a-view-versus-a-copy\n",
      "  text_train['is_paraphrased'] = 0\n"
     ]
    }
   ],
   "source": [
    "import pandas as pd\n",
    "cleaned = pd.read_csv('/Users/wibe/Desktop/CogSci/NLP/NLP_exam_2023/data/paraphrasingsNEW.csv')\n",
    "\n",
    "\n",
    "# make a dataframe with only the columns 'text', 'text_paraphrase', 'label'\n",
    "paraphrased_train = cleaned[['Original', 'label']]\n",
    "text_train = cleaned[['text', 'label']]\n",
    "\n",
    "\n",
    "# Add a new column to indicate whether each sentence is original or paraphrased\n",
    "paraphrased_train['is_paraphrased'] = 1\n",
    "text_train['is_paraphrased'] = 0\n",
    "\n",
    "# Rename the columns to the same name\n",
    "paraphrased_train = paraphrased_train.rename(columns={'text_paraphrase': 'text'})\n",
    "text_train = text_train.rename(columns={'text': 'text'})\n",
    "\n",
    "# Concatenate the two dataframes\n",
    "combined = pd.concat([text_train, paraphrased_train], ignore_index=True)\n",
    "\n",
    "combined.to_csv('data/twitter_data_combined.csv', index=False)"
   ]
  },
  {
   "cell_type": "code",
   "execution_count": null,
   "metadata": {},
   "outputs": [],
   "source": [
    "# Rename the columns to the same name\n",
    "paraphrased_train = paraphrased_train.rename(columns={'text_paraphrase': 'text'})\n",
    "text_train = text_train.rename(columns={'text': 'text'})\n",
    "\n",
    "# Concatenate the two dataframes\n",
    "combined = pd.concat([text_train, paraphrased_train], ignore_index=True)"
   ]
  },
  {
   "cell_type": "code",
   "execution_count": 4,
   "metadata": {},
   "outputs": [],
   "source": [
    "\n",
    "import pandas as pd\n",
    "df = pd.read_csv('/Users/wibe/Desktop/CogSci/NLP/NLP_exam_2023/data/twitter_data_train.csv', )\n",
    "\n",
    "twitter_data_train_small = df[0:5]\n",
    "\n",
    "# to csv\n",
    "twitter_data_train_small.to_csv('/Users/wibe/Desktop/CogSci/NLP/NLP_exam_2023/data/twitter_data_train_small.csv', index=False)"
   ]
  },
  {
   "cell_type": "code",
   "execution_count": 19,
   "metadata": {},
   "outputs": [],
   "source": [
    "#############################################################################################\n",
    "####### NB: before running this, run the following in the terminal:  ########################\n",
    "#############################################################################################\n",
    "\n",
    "#1# CT_METAL=1 pip install ctransformers --no-binary ctransformers\n",
    "#2# pip install huggingface-hub\n",
    "#3# huggingface-cli download TheBloke/OpenHermes-2.5-Mistral-7B-GGUF openhermes-2.5-mistral-7b.Q4_K_M.gguf --local-dir . --local-dir-use-symlinks False\n",
    "# ^ the first command makes the model run MUCH faster if you're on a M1 mac with at GPU, command 2 and 3 downloads the mistral model to your working directory\n",
    "\n",
    "\n",
    "# playing with mistral\n",
    "from ctransformers import AutoModelForCausalLM\n",
    "\n",
    "\n",
    "\n",
    "def make_input_mistral(phrase: str) -> str: # examples should be a dataset with column 0 being the original text and column 1 being the paraphrased text\n",
    "    system = f\"\"\"Your task is to proficiently understand and communicate in Danish. You are required to rephrase text in Danish while adhering to the following rules:\n",
    "\n",
    "1. Avoid repeating yourself.\n",
    "2. Refrain from using the same sentence as in the original text.\n",
    "3. Maintain a similar text length to the original.\n",
    "4. Ensure the context remains consistent with the original text.\n",
    "\n",
    "Please provide your rephrased response in Danish, observing the given rules and maintaining the context of the original text.\n",
    "    \"\"\"\n",
    "\n",
    "    prompt = f\"\"\"\n",
    "    <|im_start|>system\n",
    "    {system}<|im_end|>\n",
    "    <|im_start|>user\n",
    "    {phrase}<|im_end|>\n",
    "    <|im_start|>assistant\n",
    "    \"\"\"\n",
    "\n",
    "    return prompt\n",
    "\n",
    "def load_mistral(model_path):\n",
    "    model = AutoModelForCausalLM.from_pretrained(\n",
    "        str(model_path), \n",
    "        model_type=\"mistral\",\n",
    "        gpu_layers=50,\n",
    "        temperature=0.8, # default is 0.8\n",
    "        top_p = 0.95,\n",
    "        top_k = 40,  # default is 0.95\n",
    "        max_new_tokens = 1000,\n",
    "        context_length = 6000)\n",
    "    \n",
    "    return model\n",
    "\n",
    "\n",
    "\n",
    "strings = [\"Hvad er en meningen med livet?\", \"hvorfor er der så mange mennesker i verden?\"]\n",
    "\n",
    "max_new_tokens = 50\n",
    "\n",
    "model = load_mistral(root_dir / \"models\" / \"openhermes-2.5-mistral-7b.Q4_K_M.gguf\")\n",
    "\n",
    "for question in strings:\n",
    "    print(question)\n",
    "    print(model(make_input_mistral(question)))"
   ]
  },
  {
   "cell_type": "code",
   "execution_count": 20,
   "metadata": {},
   "outputs": [
    {
     "name": "stderr",
     "output_type": "stream",
     "text": [
      "100%|██████████| 20/20 [02:18<00:00,  6.95s/it]\n"
     ]
    },
    {
     "data": {
      "text/html": [
       "<div>\n",
       "<style scoped>\n",
       "    .dataframe tbody tr th:only-of-type {\n",
       "        vertical-align: middle;\n",
       "    }\n",
       "\n",
       "    .dataframe tbody tr th {\n",
       "        vertical-align: top;\n",
       "    }\n",
       "\n",
       "    .dataframe thead th {\n",
       "        text-align: right;\n",
       "    }\n",
       "</style>\n",
       "<table border=\"1\" class=\"dataframe\">\n",
       "  <thead>\n",
       "    <tr style=\"text-align: right;\">\n",
       "      <th></th>\n",
       "      <th>Original</th>\n",
       "      <th>New</th>\n",
       "    </tr>\n",
       "  </thead>\n",
       "  <tbody>\n",
       "    <tr>\n",
       "      <th>0</th>\n",
       "      <td>Danmark kan ikke leve af gæld.</td>\n",
       "      <td>Økonomisk ubalancering vil vare i Danmark indt...</td>\n",
       "    </tr>\n",
       "    <tr>\n",
       "      <th>1</th>\n",
       "      <td>Efter et regeringsskifte vil den økonomiske po...</td>\n",
       "      <td>Efter et skift i regeringen, vil den nye økon...</td>\n",
       "    </tr>\n",
       "    <tr>\n",
       "      <th>2</th>\n",
       "      <td>Vi vil oprette et agentur mod falske nyheder, ...</td>\n",
       "      <td>Ønsket om at danne en organisation til bekæmpe...</td>\n",
       "    </tr>\n",
       "    <tr>\n",
       "      <th>3</th>\n",
       "      <td>Lige netop sygeskatten kunne have været et uds...</td>\n",
       "      <td>Ønsket om at indføre sygeskatten kunne have væ...</td>\n",
       "    </tr>\n",
       "    <tr>\n",
       "      <th>4</th>\n",
       "      <td>HK, har ønsket at få kønsopdelt lønstatistik.</td>\n",
       "      <td>LO og DA kan også støtte HK's ønske om lønsta...</td>\n",
       "    </tr>\n",
       "    <tr>\n",
       "      <th>5</th>\n",
       "      <td>Så jeg synes, det er ret svært, når man skal i...</td>\n",
       "      <td>\\n    Det virker ubedrageligt at tvange to så ...</td>\n",
       "    </tr>\n",
       "    <tr>\n",
       "      <th>6</th>\n",
       "      <td>Grænseoverskridende problemer må løses gennem ...</td>\n",
       "      <td>Grænseoverskridende problemer skal løses ved ...</td>\n",
       "    </tr>\n",
       "    <tr>\n",
       "      <th>7</th>\n",
       "      <td>Forskellen mellem virkningerne på beskæftigels...</td>\n",
       "      <td>Øget uddannelsesindsats er en faktor, der bidr...</td>\n",
       "    </tr>\n",
       "    <tr>\n",
       "      <th>8</th>\n",
       "      <td>Det er sådan, at jeg lige har været inde at tj...</td>\n",
       "      <td>\\n    Så det var en læringstilfælde for dig? O...</td>\n",
       "    </tr>\n",
       "    <tr>\n",
       "      <th>9</th>\n",
       "      <td>Det ene er at give borgerne mulighed for frit ...</td>\n",
       "      <td>Ønsket om at give borgerne mulighed for frit a...</td>\n",
       "    </tr>\n",
       "    <tr>\n",
       "      <th>10</th>\n",
       "      <td>Derfor har vi også i den seneste folketingsper...</td>\n",
       "      <td>Så vi har imidlertid givet væbnets forsvar en...</td>\n",
       "    </tr>\n",
       "    <tr>\n",
       "      <th>11</th>\n",
       "      <td>Dansk Folkeparti har her fremsat et beslutning...</td>\n",
       "      <td>13. marts er beslutningsdatoen for EF-domstole...</td>\n",
       "    </tr>\n",
       "    <tr>\n",
       "      <th>12</th>\n",
       "      <td>Vi skal være bedre til at få nye idéer omsat t...</td>\n",
       "      <td>Vi skal forbedre vores evne til at omformuler...</td>\n",
       "    </tr>\n",
       "    <tr>\n",
       "      <th>13</th>\n",
       "      <td>Vi har selvfølgelig noteret os, at der ikke er...</td>\n",
       "      <td>\\n    Selvfølgelig har vi noteret det, og vi e...</td>\n",
       "    </tr>\n",
       "    <tr>\n",
       "      <th>14</th>\n",
       "      <td>Ved at starte en forbudsprocedure med udgangsp...</td>\n",
       "      <td>En forbudsprocedure baseret på lister over uø...</td>\n",
       "    </tr>\n",
       "    <tr>\n",
       "      <th>15</th>\n",
       "      <td>Mænd og kvinder og i øvrigt alle andre grupper...</td>\n",
       "      <td>Ønsket om ligestilling for begge køn og samme ...</td>\n",
       "    </tr>\n",
       "    <tr>\n",
       "      <th>16</th>\n",
       "      <td>Undervejs har vi truffet hårde beslutninger.</td>\n",
       "      <td>Vi er nødt til at gennemføre tunga aftaler fo...</td>\n",
       "    </tr>\n",
       "    <tr>\n",
       "      <th>17</th>\n",
       "      <td>Regeringen magtede ikke at fortsætte en politi...</td>\n",
       "      <td>Økonomisk politik baseret på forsigtighed vil ...</td>\n",
       "    </tr>\n",
       "    <tr>\n",
       "      <th>18</th>\n",
       "      <td>Derfor undrer det mig, at der er så meget tviv...</td>\n",
       "      <td>Øjeblikkeligt, det er meget forunderligt, at d...</td>\n",
       "    </tr>\n",
       "    <tr>\n",
       "      <th>19</th>\n",
       "      <td>Så det går da trods alt, også i forhold til ta...</td>\n",
       "      <td>\\n    Det går også at sige, at der er en retni...</td>\n",
       "    </tr>\n",
       "  </tbody>\n",
       "</table>\n",
       "</div>"
      ],
      "text/plain": [
       "                                             Original  \\\n",
       "0                      Danmark kan ikke leve af gæld.   \n",
       "1   Efter et regeringsskifte vil den økonomiske po...   \n",
       "2   Vi vil oprette et agentur mod falske nyheder, ...   \n",
       "3   Lige netop sygeskatten kunne have været et uds...   \n",
       "4       HK, har ønsket at få kønsopdelt lønstatistik.   \n",
       "5   Så jeg synes, det er ret svært, når man skal i...   \n",
       "6   Grænseoverskridende problemer må løses gennem ...   \n",
       "7   Forskellen mellem virkningerne på beskæftigels...   \n",
       "8   Det er sådan, at jeg lige har været inde at tj...   \n",
       "9   Det ene er at give borgerne mulighed for frit ...   \n",
       "10  Derfor har vi også i den seneste folketingsper...   \n",
       "11  Dansk Folkeparti har her fremsat et beslutning...   \n",
       "12  Vi skal være bedre til at få nye idéer omsat t...   \n",
       "13  Vi har selvfølgelig noteret os, at der ikke er...   \n",
       "14  Ved at starte en forbudsprocedure med udgangsp...   \n",
       "15  Mænd og kvinder og i øvrigt alle andre grupper...   \n",
       "16       Undervejs har vi truffet hårde beslutninger.   \n",
       "17  Regeringen magtede ikke at fortsætte en politi...   \n",
       "18  Derfor undrer det mig, at der er så meget tviv...   \n",
       "19  Så det går da trods alt, også i forhold til ta...   \n",
       "\n",
       "                                                  New  \n",
       "0   Økonomisk ubalancering vil vare i Danmark indt...  \n",
       "1    Efter et skift i regeringen, vil den nye økon...  \n",
       "2   Ønsket om at danne en organisation til bekæmpe...  \n",
       "3   Ønsket om at indføre sygeskatten kunne have væ...  \n",
       "4    LO og DA kan også støtte HK's ønske om lønsta...  \n",
       "5   \\n    Det virker ubedrageligt at tvange to så ...  \n",
       "6    Grænseoverskridende problemer skal løses ved ...  \n",
       "7   Øget uddannelsesindsats er en faktor, der bidr...  \n",
       "8   \\n    Så det var en læringstilfælde for dig? O...  \n",
       "9   Ønsket om at give borgerne mulighed for frit a...  \n",
       "10   Så vi har imidlertid givet væbnets forsvar en...  \n",
       "11  13. marts er beslutningsdatoen for EF-domstole...  \n",
       "12   Vi skal forbedre vores evne til at omformuler...  \n",
       "13  \\n    Selvfølgelig har vi noteret det, og vi e...  \n",
       "14   En forbudsprocedure baseret på lister over uø...  \n",
       "15  Ønsket om ligestilling for begge køn og samme ...  \n",
       "16   Vi er nødt til at gennemføre tunga aftaler fo...  \n",
       "17  Økonomisk politik baseret på forsigtighed vil ...  \n",
       "18  Øjeblikkeligt, det er meget forunderligt, at d...  \n",
       "19  \\n    Det går også at sige, at der er en retni...  "
      ]
     },
     "execution_count": 20,
     "metadata": {},
     "output_type": "execute_result"
    }
   ],
   "source": [
    "import os\n",
    "from pathlib import Path\n",
    "\n",
    "max_new_tokens = 50\n",
    "\n",
    "model = load_mistral(os.path.join(\"model\", \"openhermes-2.5-mistral-7b.Q4_K_M.gguf\"))\n",
    "\n",
    "strings = [\"Partiet Venstre er et borgerligt parti.\",\n",
    "           \"Social demokraterne var i regering fra 2011 til 2015.\",\n",
    "           \"Radikale venstre synes at skatten var for høj.\"]\n",
    "\n",
    "#for string in tqdm(original):\n",
    "#    new = model(make_input_mistral(string))\n",
    "#    print(f'[Original] {string} || [New] {new}')\n",
    "\n",
    "\n",
    "df = generate_dataframe(original, model)\n",
    "print(df.head())\n"
   ]
  },
  {
   "cell_type": "code",
   "execution_count": 7,
   "metadata": {},
   "outputs": [
    {
     "data": {
      "text/html": [
       "<div>\n",
       "<style scoped>\n",
       "    .dataframe tbody tr th:only-of-type {\n",
       "        vertical-align: middle;\n",
       "    }\n",
       "\n",
       "    .dataframe tbody tr th {\n",
       "        vertical-align: top;\n",
       "    }\n",
       "\n",
       "    .dataframe thead th {\n",
       "        text-align: right;\n",
       "    }\n",
       "</style>\n",
       "<table border=\"1\" class=\"dataframe\">\n",
       "  <thead>\n",
       "    <tr style=\"text-align: right;\">\n",
       "      <th></th>\n",
       "      <th>Original</th>\n",
       "      <th>New</th>\n",
       "    </tr>\n",
       "  </thead>\n",
       "  <tbody>\n",
       "    <tr>\n",
       "      <th>0</th>\n",
       "      <td>Danmark kan ikke leve af gæld.</td>\n",
       "      <td>Økonomien ved uundgåelige skuldsatser truer me...</td>\n",
       "    </tr>\n",
       "    <tr>\n",
       "      <th>1</th>\n",
       "      <td>Efter et regeringsskifte vil den økonomiske po...</td>\n",
       "      <td>Så længe man tager foresigtsfyldt initiativer...</td>\n",
       "    </tr>\n",
       "    <tr>\n",
       "      <th>2</th>\n",
       "      <td>Vi vil oprette et agentur mod falske nyheder, ...</td>\n",
       "      <td>Vi skal danne en organisation til bekæmpelse ...</td>\n",
       "    </tr>\n",
       "    <tr>\n",
       "      <th>3</th>\n",
       "      <td>Lige netop sygeskatten kunne have været et uds...</td>\n",
       "      <td>Ønsket om sygeskatteudspillet kunne have brugt...</td>\n",
       "    </tr>\n",
       "    <tr>\n",
       "      <th>4</th>\n",
       "      <td>HK, har ønsket at få kønsopdelt lønstatistik.</td>\n",
       "      <td>Ønsker HK statistikker over lønninger opdelt e...</td>\n",
       "    </tr>\n",
       "    <tr>\n",
       "      <th>5</th>\n",
       "      <td>Så jeg synes, det er ret svært, når man skal i...</td>\n",
       "      <td>Det er udmærket forståeligt, at det kan være ...</td>\n",
       "    </tr>\n",
       "    <tr>\n",
       "      <th>6</th>\n",
       "      <td>Grænseoverskridende problemer må løses gennem ...</td>\n",
       "      <td>Økonomiske udfordringer kræver en internationa...</td>\n",
       "    </tr>\n",
       "    <tr>\n",
       "      <th>7</th>\n",
       "      <td>Forskellen mellem virkningerne på beskæftigels...</td>\n",
       "      <td>Øget uddannelsesniveau blandt beskæftigede har...</td>\n",
       "    </tr>\n",
       "    <tr>\n",
       "      <th>8</th>\n",
       "      <td>Det er sådan, at jeg lige har været inde at tj...</td>\n",
       "      <td>\\n    Det er sådan, at jeg lige har været inde...</td>\n",
       "    </tr>\n",
       "    <tr>\n",
       "      <th>9</th>\n",
       "      <td>Det ene er at give borgerne mulighed for frit ...</td>\n",
       "      <td>\\n    Det ene er at give danskere frihed til a...</td>\n",
       "    </tr>\n",
       "    <tr>\n",
       "      <th>10</th>\n",
       "      <td>Derfor har vi også i den seneste folketingsper...</td>\n",
       "      <td>Derfor har vi også i den seneste folketingspe...</td>\n",
       "    </tr>\n",
       "    <tr>\n",
       "      <th>11</th>\n",
       "      <td>Dansk Folkeparti har her fremsat et beslutning...</td>\n",
       "      <td>\\n    Dansk Folkeparti har indsendt et forslag...</td>\n",
       "    </tr>\n",
       "    <tr>\n",
       "      <th>12</th>\n",
       "      <td>Vi skal være bedre til at få nye idéer omsat t...</td>\n",
       "      <td>Vi skal forbedre vores evne til at omformuler...</td>\n",
       "    </tr>\n",
       "    <tr>\n",
       "      <th>13</th>\n",
       "      <td>Vi har selvfølgelig noteret os, at der ikke er...</td>\n",
       "      <td>\\n    Det være sig, at vi er bekendt med denne...</td>\n",
       "    </tr>\n",
       "    <tr>\n",
       "      <th>14</th>\n",
       "      <td>Ved at starte en forbudsprocedure med udgangsp...</td>\n",
       "      <td>Ønskede at starte en forbudsprocedure baseret ...</td>\n",
       "    </tr>\n",
       "    <tr>\n",
       "      <th>15</th>\n",
       "      <td>Mænd og kvinder og i øvrigt alle andre grupper...</td>\n",
       "      <td>Ældre og yngre, samt alle andre demografiske g...</td>\n",
       "    </tr>\n",
       "    <tr>\n",
       "      <th>16</th>\n",
       "      <td>Undervejs har vi truffet hårde beslutninger.</td>\n",
       "      <td>Vi har taget vanskelige valg gennem vejen.</td>\n",
       "    </tr>\n",
       "    <tr>\n",
       "      <th>17</th>\n",
       "      <td>Regeringen magtede ikke at fortsætte en politi...</td>\n",
       "      <td>Økonomisk politik, der ikke kan styrke virksom...</td>\n",
       "    </tr>\n",
       "    <tr>\n",
       "      <th>18</th>\n",
       "      <td>Derfor undrer det mig, at der er så meget tviv...</td>\n",
       "      <td>Derfor forunder det mig, at der er så meget t...</td>\n",
       "    </tr>\n",
       "    <tr>\n",
       "      <th>19</th>\n",
       "      <td>Så det går da trods alt, også i forhold til ta...</td>\n",
       "      <td>Trods alle udfordringer, går det også stadig ...</td>\n",
       "    </tr>\n",
       "  </tbody>\n",
       "</table>\n",
       "</div>"
      ],
      "text/plain": [
       "                                             Original  \\\n",
       "0                      Danmark kan ikke leve af gæld.   \n",
       "1   Efter et regeringsskifte vil den økonomiske po...   \n",
       "2   Vi vil oprette et agentur mod falske nyheder, ...   \n",
       "3   Lige netop sygeskatten kunne have været et uds...   \n",
       "4       HK, har ønsket at få kønsopdelt lønstatistik.   \n",
       "5   Så jeg synes, det er ret svært, når man skal i...   \n",
       "6   Grænseoverskridende problemer må løses gennem ...   \n",
       "7   Forskellen mellem virkningerne på beskæftigels...   \n",
       "8   Det er sådan, at jeg lige har været inde at tj...   \n",
       "9   Det ene er at give borgerne mulighed for frit ...   \n",
       "10  Derfor har vi også i den seneste folketingsper...   \n",
       "11  Dansk Folkeparti har her fremsat et beslutning...   \n",
       "12  Vi skal være bedre til at få nye idéer omsat t...   \n",
       "13  Vi har selvfølgelig noteret os, at der ikke er...   \n",
       "14  Ved at starte en forbudsprocedure med udgangsp...   \n",
       "15  Mænd og kvinder og i øvrigt alle andre grupper...   \n",
       "16       Undervejs har vi truffet hårde beslutninger.   \n",
       "17  Regeringen magtede ikke at fortsætte en politi...   \n",
       "18  Derfor undrer det mig, at der er så meget tviv...   \n",
       "19  Så det går da trods alt, også i forhold til ta...   \n",
       "\n",
       "                                                  New  \n",
       "0   Økonomien ved uundgåelige skuldsatser truer me...  \n",
       "1    Så længe man tager foresigtsfyldt initiativer...  \n",
       "2    Vi skal danne en organisation til bekæmpelse ...  \n",
       "3   Ønsket om sygeskatteudspillet kunne have brugt...  \n",
       "4   Ønsker HK statistikker over lønninger opdelt e...  \n",
       "5    Det er udmærket forståeligt, at det kan være ...  \n",
       "6   Økonomiske udfordringer kræver en internationa...  \n",
       "7   Øget uddannelsesniveau blandt beskæftigede har...  \n",
       "8   \\n    Det er sådan, at jeg lige har været inde...  \n",
       "9   \\n    Det ene er at give danskere frihed til a...  \n",
       "10   Derfor har vi også i den seneste folketingspe...  \n",
       "11  \\n    Dansk Folkeparti har indsendt et forslag...  \n",
       "12   Vi skal forbedre vores evne til at omformuler...  \n",
       "13  \\n    Det være sig, at vi er bekendt med denne...  \n",
       "14  Ønskede at starte en forbudsprocedure baseret ...  \n",
       "15  Ældre og yngre, samt alle andre demografiske g...  \n",
       "16         Vi har taget vanskelige valg gennem vejen.  \n",
       "17  Økonomisk politik, der ikke kan styrke virksom...  \n",
       "18   Derfor forunder det mig, at der er så meget t...  \n",
       "19   Trods alle udfordringer, går det også stadig ...  "
      ]
     },
     "execution_count": 7,
     "metadata": {},
     "output_type": "execute_result"
    }
   ],
   "source": [
    "df"
   ]
  },
  {
   "cell_type": "markdown",
   "metadata": {},
   "source": [
    "# 1. Paraphrasing pipeline"
   ]
  },
  {
   "cell_type": "markdown",
   "metadata": {},
   "source": [
    "Token"
   ]
  },
  {
   "cell_type": "code",
   "execution_count": 1,
   "metadata": {},
   "outputs": [
    {
     "name": "stderr",
     "output_type": "stream",
     "text": [
      "/Users/wibe/Desktop/CogSci/NLP/Exam_project/NLP_exam_2023/venv_NLP_exam/lib/python3.9/site-packages/tqdm/auto.py:21: TqdmWarning: IProgress not found. Please update jupyter and ipywidgets. See https://ipywidgets.readthedocs.io/en/stable/user_install.html\n",
      "  from .autonotebook import tqdm as notebook_tqdm\n",
      "tokenizer_config.json: 100%|██████████| 1.61k/1.61k [00:00<00:00, 601kB/s]\n",
      "tokenizer.model: 100%|██████████| 493k/493k [00:00<00:00, 1.46MB/s]\n",
      "tokenizer.json: 100%|██████████| 1.80M/1.80M [00:01<00:00, 1.50MB/s]\n",
      "added_tokens.json: 100%|██████████| 53.0/53.0 [00:00<00:00, 96.4kB/s]\n",
      "special_tokens_map.json: 100%|██████████| 560/560 [00:00<00:00, 1.21MB/s]\n",
      "Special tokens have been added in the vocabulary, make sure the associated word embeddings are fine-tuned or trained.\n",
      "config.json: 100%|██████████| 613/613 [00:00<00:00, 1.26MB/s]\n",
      "model.safetensors.index.json: 100%|██████████| 23.9k/23.9k [00:00<00:00, 14.3MB/s]\n",
      "model-00001-of-00003.safetensors:   7%|▋         | 346M/4.94G [02:51<38:01, 2.02MB/s]\n",
      "Downloading shards:   0%|          | 0/3 [02:52<?, ?it/s]\n"
     ]
    },
    {
     "ename": "KeyboardInterrupt",
     "evalue": "",
     "output_type": "error",
     "traceback": [
      "\u001b[0;31m---------------------------------------------------------------------------\u001b[0m",
      "\u001b[0;31mKeyboardInterrupt\u001b[0m                         Traceback (most recent call last)",
      "\u001b[1;32m/Users/wibe/Desktop/CogSci/NLP/Exam_project/NLP_exam_2023/sandbox.ipynb Cell 4\u001b[0m line \u001b[0;36m5\n\u001b[1;32m      <a href='vscode-notebook-cell:/Users/wibe/Desktop/CogSci/NLP/Exam_project/NLP_exam_2023/sandbox.ipynb#X13sZmlsZQ%3D%3D?line=1'>2</a>\u001b[0m \u001b[39mfrom\u001b[39;00m \u001b[39mtransformers\u001b[39;00m \u001b[39mimport\u001b[39;00m AutoTokenizer, AutoModelForCausalLM\n\u001b[1;32m      <a href='vscode-notebook-cell:/Users/wibe/Desktop/CogSci/NLP/Exam_project/NLP_exam_2023/sandbox.ipynb#X13sZmlsZQ%3D%3D?line=3'>4</a>\u001b[0m tokenizer \u001b[39m=\u001b[39m AutoTokenizer\u001b[39m.\u001b[39mfrom_pretrained(\u001b[39m\"\u001b[39m\u001b[39mberkeley-nest/Starling-LM-7B-alpha\u001b[39m\u001b[39m\"\u001b[39m)\n\u001b[0;32m----> <a href='vscode-notebook-cell:/Users/wibe/Desktop/CogSci/NLP/Exam_project/NLP_exam_2023/sandbox.ipynb#X13sZmlsZQ%3D%3D?line=4'>5</a>\u001b[0m model \u001b[39m=\u001b[39m AutoModelForCausalLM\u001b[39m.\u001b[39;49mfrom_pretrained(\u001b[39m\"\u001b[39;49m\u001b[39mberkeley-nest/Starling-LM-7B-alpha\u001b[39;49m\u001b[39m\"\u001b[39;49m)\n",
      "File \u001b[0;32m~/Desktop/CogSci/NLP/Exam_project/NLP_exam_2023/venv_NLP_exam/lib/python3.9/site-packages/transformers/models/auto/auto_factory.py:566\u001b[0m, in \u001b[0;36m_BaseAutoModelClass.from_pretrained\u001b[0;34m(cls, pretrained_model_name_or_path, *model_args, **kwargs)\u001b[0m\n\u001b[1;32m    564\u001b[0m \u001b[39melif\u001b[39;00m \u001b[39mtype\u001b[39m(config) \u001b[39min\u001b[39;00m \u001b[39mcls\u001b[39m\u001b[39m.\u001b[39m_model_mapping\u001b[39m.\u001b[39mkeys():\n\u001b[1;32m    565\u001b[0m     model_class \u001b[39m=\u001b[39m _get_model_class(config, \u001b[39mcls\u001b[39m\u001b[39m.\u001b[39m_model_mapping)\n\u001b[0;32m--> 566\u001b[0m     \u001b[39mreturn\u001b[39;00m model_class\u001b[39m.\u001b[39;49mfrom_pretrained(\n\u001b[1;32m    567\u001b[0m         pretrained_model_name_or_path, \u001b[39m*\u001b[39;49mmodel_args, config\u001b[39m=\u001b[39;49mconfig, \u001b[39m*\u001b[39;49m\u001b[39m*\u001b[39;49mhub_kwargs, \u001b[39m*\u001b[39;49m\u001b[39m*\u001b[39;49mkwargs\n\u001b[1;32m    568\u001b[0m     )\n\u001b[1;32m    569\u001b[0m \u001b[39mraise\u001b[39;00m \u001b[39mValueError\u001b[39;00m(\n\u001b[1;32m    570\u001b[0m     \u001b[39mf\u001b[39m\u001b[39m\"\u001b[39m\u001b[39mUnrecognized configuration class \u001b[39m\u001b[39m{\u001b[39;00mconfig\u001b[39m.\u001b[39m\u001b[39m__class__\u001b[39m\u001b[39m}\u001b[39;00m\u001b[39m for this kind of AutoModel: \u001b[39m\u001b[39m{\u001b[39;00m\u001b[39mcls\u001b[39m\u001b[39m.\u001b[39m\u001b[39m__name__\u001b[39m\u001b[39m}\u001b[39;00m\u001b[39m.\u001b[39m\u001b[39m\\n\u001b[39;00m\u001b[39m\"\u001b[39m\n\u001b[1;32m    571\u001b[0m     \u001b[39mf\u001b[39m\u001b[39m\"\u001b[39m\u001b[39mModel type should be one of \u001b[39m\u001b[39m{\u001b[39;00m\u001b[39m'\u001b[39m\u001b[39m, \u001b[39m\u001b[39m'\u001b[39m\u001b[39m.\u001b[39mjoin(c\u001b[39m.\u001b[39m\u001b[39m__name__\u001b[39m\u001b[39m \u001b[39m\u001b[39mfor\u001b[39;00m\u001b[39m \u001b[39mc\u001b[39m \u001b[39m\u001b[39min\u001b[39;00m\u001b[39m \u001b[39m\u001b[39mcls\u001b[39m\u001b[39m.\u001b[39m_model_mapping\u001b[39m.\u001b[39mkeys())\u001b[39m}\u001b[39;00m\u001b[39m.\u001b[39m\u001b[39m\"\u001b[39m\n\u001b[1;32m    572\u001b[0m )\n",
      "File \u001b[0;32m~/Desktop/CogSci/NLP/Exam_project/NLP_exam_2023/venv_NLP_exam/lib/python3.9/site-packages/transformers/modeling_utils.py:3128\u001b[0m, in \u001b[0;36mPreTrainedModel.from_pretrained\u001b[0;34m(cls, pretrained_model_name_or_path, config, cache_dir, ignore_mismatched_sizes, force_download, local_files_only, token, revision, use_safetensors, *model_args, **kwargs)\u001b[0m\n\u001b[1;32m   3125\u001b[0m \u001b[39m# We'll need to download and cache each checkpoint shard if the checkpoint is sharded.\u001b[39;00m\n\u001b[1;32m   3126\u001b[0m \u001b[39mif\u001b[39;00m is_sharded:\n\u001b[1;32m   3127\u001b[0m     \u001b[39m# rsolved_archive_file becomes a list of files that point to the different checkpoint shards in this case.\u001b[39;00m\n\u001b[0;32m-> 3128\u001b[0m     resolved_archive_file, sharded_metadata \u001b[39m=\u001b[39m get_checkpoint_shard_files(\n\u001b[1;32m   3129\u001b[0m         pretrained_model_name_or_path,\n\u001b[1;32m   3130\u001b[0m         resolved_archive_file,\n\u001b[1;32m   3131\u001b[0m         cache_dir\u001b[39m=\u001b[39;49mcache_dir,\n\u001b[1;32m   3132\u001b[0m         force_download\u001b[39m=\u001b[39;49mforce_download,\n\u001b[1;32m   3133\u001b[0m         proxies\u001b[39m=\u001b[39;49mproxies,\n\u001b[1;32m   3134\u001b[0m         resume_download\u001b[39m=\u001b[39;49mresume_download,\n\u001b[1;32m   3135\u001b[0m         local_files_only\u001b[39m=\u001b[39;49mlocal_files_only,\n\u001b[1;32m   3136\u001b[0m         token\u001b[39m=\u001b[39;49mtoken,\n\u001b[1;32m   3137\u001b[0m         user_agent\u001b[39m=\u001b[39;49muser_agent,\n\u001b[1;32m   3138\u001b[0m         revision\u001b[39m=\u001b[39;49mrevision,\n\u001b[1;32m   3139\u001b[0m         subfolder\u001b[39m=\u001b[39;49msubfolder,\n\u001b[1;32m   3140\u001b[0m         _commit_hash\u001b[39m=\u001b[39;49mcommit_hash,\n\u001b[1;32m   3141\u001b[0m     )\n\u001b[1;32m   3143\u001b[0m \u001b[39mif\u001b[39;00m (\n\u001b[1;32m   3144\u001b[0m     is_safetensors_available()\n\u001b[1;32m   3145\u001b[0m     \u001b[39mand\u001b[39;00m \u001b[39misinstance\u001b[39m(resolved_archive_file, \u001b[39mstr\u001b[39m)\n\u001b[1;32m   3146\u001b[0m     \u001b[39mand\u001b[39;00m resolved_archive_file\u001b[39m.\u001b[39mendswith(\u001b[39m\"\u001b[39m\u001b[39m.safetensors\u001b[39m\u001b[39m\"\u001b[39m)\n\u001b[1;32m   3147\u001b[0m ):\n\u001b[1;32m   3148\u001b[0m     \u001b[39mwith\u001b[39;00m safe_open(resolved_archive_file, framework\u001b[39m=\u001b[39m\u001b[39m\"\u001b[39m\u001b[39mpt\u001b[39m\u001b[39m\"\u001b[39m) \u001b[39mas\u001b[39;00m f:\n",
      "File \u001b[0;32m~/Desktop/CogSci/NLP/Exam_project/NLP_exam_2023/venv_NLP_exam/lib/python3.9/site-packages/transformers/utils/hub.py:1052\u001b[0m, in \u001b[0;36mget_checkpoint_shard_files\u001b[0;34m(pretrained_model_name_or_path, index_filename, cache_dir, force_download, proxies, resume_download, local_files_only, token, user_agent, revision, subfolder, _commit_hash, **deprecated_kwargs)\u001b[0m\n\u001b[1;32m   1049\u001b[0m \u001b[39mfor\u001b[39;00m shard_filename \u001b[39min\u001b[39;00m tqdm(shard_filenames, desc\u001b[39m=\u001b[39m\u001b[39m\"\u001b[39m\u001b[39mDownloading shards\u001b[39m\u001b[39m\"\u001b[39m, disable\u001b[39m=\u001b[39m\u001b[39mnot\u001b[39;00m show_progress_bar):\n\u001b[1;32m   1050\u001b[0m     \u001b[39mtry\u001b[39;00m:\n\u001b[1;32m   1051\u001b[0m         \u001b[39m# Load from URL\u001b[39;00m\n\u001b[0;32m-> 1052\u001b[0m         cached_filename \u001b[39m=\u001b[39m cached_file(\n\u001b[1;32m   1053\u001b[0m             pretrained_model_name_or_path,\n\u001b[1;32m   1054\u001b[0m             shard_filename,\n\u001b[1;32m   1055\u001b[0m             cache_dir\u001b[39m=\u001b[39;49mcache_dir,\n\u001b[1;32m   1056\u001b[0m             force_download\u001b[39m=\u001b[39;49mforce_download,\n\u001b[1;32m   1057\u001b[0m             proxies\u001b[39m=\u001b[39;49mproxies,\n\u001b[1;32m   1058\u001b[0m             resume_download\u001b[39m=\u001b[39;49mresume_download,\n\u001b[1;32m   1059\u001b[0m             local_files_only\u001b[39m=\u001b[39;49mlocal_files_only,\n\u001b[1;32m   1060\u001b[0m             token\u001b[39m=\u001b[39;49mtoken,\n\u001b[1;32m   1061\u001b[0m             user_agent\u001b[39m=\u001b[39;49muser_agent,\n\u001b[1;32m   1062\u001b[0m             revision\u001b[39m=\u001b[39;49mrevision,\n\u001b[1;32m   1063\u001b[0m             subfolder\u001b[39m=\u001b[39;49msubfolder,\n\u001b[1;32m   1064\u001b[0m             _commit_hash\u001b[39m=\u001b[39;49m_commit_hash,\n\u001b[1;32m   1065\u001b[0m         )\n\u001b[1;32m   1066\u001b[0m     \u001b[39m# We have already dealt with RepositoryNotFoundError and RevisionNotFoundError when getting the index, so\u001b[39;00m\n\u001b[1;32m   1067\u001b[0m     \u001b[39m# we don't have to catch them here.\u001b[39;00m\n\u001b[1;32m   1068\u001b[0m     \u001b[39mexcept\u001b[39;00m EntryNotFoundError:\n",
      "File \u001b[0;32m~/Desktop/CogSci/NLP/Exam_project/NLP_exam_2023/venv_NLP_exam/lib/python3.9/site-packages/transformers/utils/hub.py:430\u001b[0m, in \u001b[0;36mcached_file\u001b[0;34m(path_or_repo_id, filename, cache_dir, force_download, resume_download, proxies, token, revision, local_files_only, subfolder, repo_type, user_agent, _raise_exceptions_for_missing_entries, _raise_exceptions_for_connection_errors, _commit_hash, **deprecated_kwargs)\u001b[0m\n\u001b[1;32m    427\u001b[0m user_agent \u001b[39m=\u001b[39m http_user_agent(user_agent)\n\u001b[1;32m    428\u001b[0m \u001b[39mtry\u001b[39;00m:\n\u001b[1;32m    429\u001b[0m     \u001b[39m# Load from URL or cache if already cached\u001b[39;00m\n\u001b[0;32m--> 430\u001b[0m     resolved_file \u001b[39m=\u001b[39m hf_hub_download(\n\u001b[1;32m    431\u001b[0m         path_or_repo_id,\n\u001b[1;32m    432\u001b[0m         filename,\n\u001b[1;32m    433\u001b[0m         subfolder\u001b[39m=\u001b[39;49m\u001b[39mNone\u001b[39;49;00m \u001b[39mif\u001b[39;49;00m \u001b[39mlen\u001b[39;49m(subfolder) \u001b[39m==\u001b[39;49m \u001b[39m0\u001b[39;49m \u001b[39melse\u001b[39;49;00m subfolder,\n\u001b[1;32m    434\u001b[0m         repo_type\u001b[39m=\u001b[39;49mrepo_type,\n\u001b[1;32m    435\u001b[0m         revision\u001b[39m=\u001b[39;49mrevision,\n\u001b[1;32m    436\u001b[0m         cache_dir\u001b[39m=\u001b[39;49mcache_dir,\n\u001b[1;32m    437\u001b[0m         user_agent\u001b[39m=\u001b[39;49muser_agent,\n\u001b[1;32m    438\u001b[0m         force_download\u001b[39m=\u001b[39;49mforce_download,\n\u001b[1;32m    439\u001b[0m         proxies\u001b[39m=\u001b[39;49mproxies,\n\u001b[1;32m    440\u001b[0m         resume_download\u001b[39m=\u001b[39;49mresume_download,\n\u001b[1;32m    441\u001b[0m         token\u001b[39m=\u001b[39;49mtoken,\n\u001b[1;32m    442\u001b[0m         local_files_only\u001b[39m=\u001b[39;49mlocal_files_only,\n\u001b[1;32m    443\u001b[0m     )\n\u001b[1;32m    444\u001b[0m \u001b[39mexcept\u001b[39;00m GatedRepoError \u001b[39mas\u001b[39;00m e:\n\u001b[1;32m    445\u001b[0m     \u001b[39mraise\u001b[39;00m \u001b[39mEnvironmentError\u001b[39;00m(\n\u001b[1;32m    446\u001b[0m         \u001b[39m\"\u001b[39m\u001b[39mYou are trying to access a gated repo.\u001b[39m\u001b[39m\\n\u001b[39;00m\u001b[39mMake sure to request access at \u001b[39m\u001b[39m\"\u001b[39m\n\u001b[1;32m    447\u001b[0m         \u001b[39mf\u001b[39m\u001b[39m\"\u001b[39m\u001b[39mhttps://huggingface.co/\u001b[39m\u001b[39m{\u001b[39;00mpath_or_repo_id\u001b[39m}\u001b[39;00m\u001b[39m and pass a token having permission to this repo either \u001b[39m\u001b[39m\"\u001b[39m\n\u001b[1;32m    448\u001b[0m         \u001b[39m\"\u001b[39m\u001b[39mby logging in with `huggingface-cli login` or by passing `token=<your_token>`.\u001b[39m\u001b[39m\"\u001b[39m\n\u001b[1;32m    449\u001b[0m     ) \u001b[39mfrom\u001b[39;00m \u001b[39me\u001b[39;00m\n",
      "File \u001b[0;32m~/Desktop/CogSci/NLP/Exam_project/NLP_exam_2023/venv_NLP_exam/lib/python3.9/site-packages/huggingface_hub/utils/_validators.py:118\u001b[0m, in \u001b[0;36mvalidate_hf_hub_args.<locals>._inner_fn\u001b[0;34m(*args, **kwargs)\u001b[0m\n\u001b[1;32m    115\u001b[0m \u001b[39mif\u001b[39;00m check_use_auth_token:\n\u001b[1;32m    116\u001b[0m     kwargs \u001b[39m=\u001b[39m smoothly_deprecate_use_auth_token(fn_name\u001b[39m=\u001b[39mfn\u001b[39m.\u001b[39m\u001b[39m__name__\u001b[39m, has_token\u001b[39m=\u001b[39mhas_token, kwargs\u001b[39m=\u001b[39mkwargs)\n\u001b[0;32m--> 118\u001b[0m \u001b[39mreturn\u001b[39;00m fn(\u001b[39m*\u001b[39;49margs, \u001b[39m*\u001b[39;49m\u001b[39m*\u001b[39;49mkwargs)\n",
      "File \u001b[0;32m~/Desktop/CogSci/NLP/Exam_project/NLP_exam_2023/venv_NLP_exam/lib/python3.9/site-packages/huggingface_hub/file_download.py:1461\u001b[0m, in \u001b[0;36mhf_hub_download\u001b[0;34m(repo_id, filename, subfolder, repo_type, revision, library_name, library_version, cache_dir, local_dir, local_dir_use_symlinks, user_agent, force_download, force_filename, proxies, etag_timeout, resume_download, token, local_files_only, legacy_cache_layout, endpoint)\u001b[0m\n\u001b[1;32m   1458\u001b[0m         \u001b[39mif\u001b[39;00m local_dir \u001b[39mis\u001b[39;00m \u001b[39mnot\u001b[39;00m \u001b[39mNone\u001b[39;00m:\n\u001b[1;32m   1459\u001b[0m             _check_disk_space(expected_size, local_dir)\n\u001b[0;32m-> 1461\u001b[0m     http_get(\n\u001b[1;32m   1462\u001b[0m         url_to_download,\n\u001b[1;32m   1463\u001b[0m         temp_file,\n\u001b[1;32m   1464\u001b[0m         proxies\u001b[39m=\u001b[39;49mproxies,\n\u001b[1;32m   1465\u001b[0m         resume_size\u001b[39m=\u001b[39;49mresume_size,\n\u001b[1;32m   1466\u001b[0m         headers\u001b[39m=\u001b[39;49mheaders,\n\u001b[1;32m   1467\u001b[0m         expected_size\u001b[39m=\u001b[39;49mexpected_size,\n\u001b[1;32m   1468\u001b[0m     )\n\u001b[1;32m   1470\u001b[0m \u001b[39mif\u001b[39;00m local_dir \u001b[39mis\u001b[39;00m \u001b[39mNone\u001b[39;00m:\n\u001b[1;32m   1471\u001b[0m     logger\u001b[39m.\u001b[39mdebug(\u001b[39mf\u001b[39m\u001b[39m\"\u001b[39m\u001b[39mStoring \u001b[39m\u001b[39m{\u001b[39;00murl\u001b[39m}\u001b[39;00m\u001b[39m in cache at \u001b[39m\u001b[39m{\u001b[39;00mblob_path\u001b[39m}\u001b[39;00m\u001b[39m\"\u001b[39m)\n",
      "File \u001b[0;32m~/Desktop/CogSci/NLP/Exam_project/NLP_exam_2023/venv_NLP_exam/lib/python3.9/site-packages/huggingface_hub/file_download.py:541\u001b[0m, in \u001b[0;36mhttp_get\u001b[0;34m(url, temp_file, proxies, resume_size, headers, expected_size, _nb_retries)\u001b[0m\n\u001b[1;32m    539\u001b[0m new_resume_size \u001b[39m=\u001b[39m resume_size\n\u001b[1;32m    540\u001b[0m \u001b[39mtry\u001b[39;00m:\n\u001b[0;32m--> 541\u001b[0m     \u001b[39mfor\u001b[39;00m chunk \u001b[39min\u001b[39;00m r\u001b[39m.\u001b[39miter_content(chunk_size\u001b[39m=\u001b[39mDOWNLOAD_CHUNK_SIZE):\n\u001b[1;32m    542\u001b[0m         \u001b[39mif\u001b[39;00m chunk:  \u001b[39m# filter out keep-alive new chunks\u001b[39;00m\n\u001b[1;32m    543\u001b[0m             progress\u001b[39m.\u001b[39mupdate(\u001b[39mlen\u001b[39m(chunk))\n",
      "File \u001b[0;32m~/Desktop/CogSci/NLP/Exam_project/NLP_exam_2023/venv_NLP_exam/lib/python3.9/site-packages/requests/models.py:816\u001b[0m, in \u001b[0;36mResponse.iter_content.<locals>.generate\u001b[0;34m()\u001b[0m\n\u001b[1;32m    814\u001b[0m \u001b[39mif\u001b[39;00m \u001b[39mhasattr\u001b[39m(\u001b[39mself\u001b[39m\u001b[39m.\u001b[39mraw, \u001b[39m\"\u001b[39m\u001b[39mstream\u001b[39m\u001b[39m\"\u001b[39m):\n\u001b[1;32m    815\u001b[0m     \u001b[39mtry\u001b[39;00m:\n\u001b[0;32m--> 816\u001b[0m         \u001b[39myield from\u001b[39;00m \u001b[39mself\u001b[39m\u001b[39m.\u001b[39mraw\u001b[39m.\u001b[39mstream(chunk_size, decode_content\u001b[39m=\u001b[39m\u001b[39mTrue\u001b[39;00m)\n\u001b[1;32m    817\u001b[0m     \u001b[39mexcept\u001b[39;00m ProtocolError \u001b[39mas\u001b[39;00m e:\n\u001b[1;32m    818\u001b[0m         \u001b[39mraise\u001b[39;00m ChunkedEncodingError(e)\n",
      "File \u001b[0;32m~/Desktop/CogSci/NLP/Exam_project/NLP_exam_2023/venv_NLP_exam/lib/python3.9/site-packages/urllib3/response.py:628\u001b[0m, in \u001b[0;36mHTTPResponse.stream\u001b[0;34m(self, amt, decode_content)\u001b[0m\n\u001b[1;32m    626\u001b[0m \u001b[39melse\u001b[39;00m:\n\u001b[1;32m    627\u001b[0m     \u001b[39mwhile\u001b[39;00m \u001b[39mnot\u001b[39;00m is_fp_closed(\u001b[39mself\u001b[39m\u001b[39m.\u001b[39m_fp):\n\u001b[0;32m--> 628\u001b[0m         data \u001b[39m=\u001b[39m \u001b[39mself\u001b[39;49m\u001b[39m.\u001b[39;49mread(amt\u001b[39m=\u001b[39;49mamt, decode_content\u001b[39m=\u001b[39;49mdecode_content)\n\u001b[1;32m    630\u001b[0m         \u001b[39mif\u001b[39;00m data:\n\u001b[1;32m    631\u001b[0m             \u001b[39myield\u001b[39;00m data\n",
      "File \u001b[0;32m~/Desktop/CogSci/NLP/Exam_project/NLP_exam_2023/venv_NLP_exam/lib/python3.9/site-packages/urllib3/response.py:567\u001b[0m, in \u001b[0;36mHTTPResponse.read\u001b[0;34m(self, amt, decode_content, cache_content)\u001b[0m\n\u001b[1;32m    564\u001b[0m fp_closed \u001b[39m=\u001b[39m \u001b[39mgetattr\u001b[39m(\u001b[39mself\u001b[39m\u001b[39m.\u001b[39m_fp, \u001b[39m\"\u001b[39m\u001b[39mclosed\u001b[39m\u001b[39m\"\u001b[39m, \u001b[39mFalse\u001b[39;00m)\n\u001b[1;32m    566\u001b[0m \u001b[39mwith\u001b[39;00m \u001b[39mself\u001b[39m\u001b[39m.\u001b[39m_error_catcher():\n\u001b[0;32m--> 567\u001b[0m     data \u001b[39m=\u001b[39m \u001b[39mself\u001b[39;49m\u001b[39m.\u001b[39;49m_fp_read(amt) \u001b[39mif\u001b[39;00m \u001b[39mnot\u001b[39;00m fp_closed \u001b[39melse\u001b[39;00m \u001b[39mb\u001b[39m\u001b[39m\"\u001b[39m\u001b[39m\"\u001b[39m\n\u001b[1;32m    568\u001b[0m     \u001b[39mif\u001b[39;00m amt \u001b[39mis\u001b[39;00m \u001b[39mNone\u001b[39;00m:\n\u001b[1;32m    569\u001b[0m         flush_decoder \u001b[39m=\u001b[39m \u001b[39mTrue\u001b[39;00m\n",
      "File \u001b[0;32m~/Desktop/CogSci/NLP/Exam_project/NLP_exam_2023/venv_NLP_exam/lib/python3.9/site-packages/urllib3/response.py:525\u001b[0m, in \u001b[0;36mHTTPResponse._fp_read\u001b[0;34m(self, amt)\u001b[0m\n\u001b[1;32m    523\u001b[0m \u001b[39melse\u001b[39;00m:\n\u001b[1;32m    524\u001b[0m     chunk_amt \u001b[39m=\u001b[39m max_chunk_amt\n\u001b[0;32m--> 525\u001b[0m data \u001b[39m=\u001b[39m \u001b[39mself\u001b[39;49m\u001b[39m.\u001b[39;49m_fp\u001b[39m.\u001b[39;49mread(chunk_amt)\n\u001b[1;32m    526\u001b[0m \u001b[39mif\u001b[39;00m \u001b[39mnot\u001b[39;00m data:\n\u001b[1;32m    527\u001b[0m     \u001b[39mbreak\u001b[39;00m\n",
      "File \u001b[0;32m/Library/Developer/CommandLineTools/Library/Frameworks/Python3.framework/Versions/3.9/lib/python3.9/http/client.py:459\u001b[0m, in \u001b[0;36mHTTPResponse.read\u001b[0;34m(self, amt)\u001b[0m\n\u001b[1;32m    456\u001b[0m \u001b[39mif\u001b[39;00m amt \u001b[39mis\u001b[39;00m \u001b[39mnot\u001b[39;00m \u001b[39mNone\u001b[39;00m:\n\u001b[1;32m    457\u001b[0m     \u001b[39m# Amount is given, implement using readinto\u001b[39;00m\n\u001b[1;32m    458\u001b[0m     b \u001b[39m=\u001b[39m \u001b[39mbytearray\u001b[39m(amt)\n\u001b[0;32m--> 459\u001b[0m     n \u001b[39m=\u001b[39m \u001b[39mself\u001b[39;49m\u001b[39m.\u001b[39;49mreadinto(b)\n\u001b[1;32m    460\u001b[0m     \u001b[39mreturn\u001b[39;00m \u001b[39mmemoryview\u001b[39m(b)[:n]\u001b[39m.\u001b[39mtobytes()\n\u001b[1;32m    461\u001b[0m \u001b[39melse\u001b[39;00m:\n\u001b[1;32m    462\u001b[0m     \u001b[39m# Amount is not given (unbounded read) so we must check self.length\u001b[39;00m\n\u001b[1;32m    463\u001b[0m     \u001b[39m# and self.chunked\u001b[39;00m\n",
      "File \u001b[0;32m/Library/Developer/CommandLineTools/Library/Frameworks/Python3.framework/Versions/3.9/lib/python3.9/http/client.py:503\u001b[0m, in \u001b[0;36mHTTPResponse.readinto\u001b[0;34m(self, b)\u001b[0m\n\u001b[1;32m    498\u001b[0m         b \u001b[39m=\u001b[39m \u001b[39mmemoryview\u001b[39m(b)[\u001b[39m0\u001b[39m:\u001b[39mself\u001b[39m\u001b[39m.\u001b[39mlength]\n\u001b[1;32m    500\u001b[0m \u001b[39m# we do not use _safe_read() here because this may be a .will_close\u001b[39;00m\n\u001b[1;32m    501\u001b[0m \u001b[39m# connection, and the user is reading more bytes than will be provided\u001b[39;00m\n\u001b[1;32m    502\u001b[0m \u001b[39m# (for example, reading in 1k chunks)\u001b[39;00m\n\u001b[0;32m--> 503\u001b[0m n \u001b[39m=\u001b[39m \u001b[39mself\u001b[39;49m\u001b[39m.\u001b[39;49mfp\u001b[39m.\u001b[39;49mreadinto(b)\n\u001b[1;32m    504\u001b[0m \u001b[39mif\u001b[39;00m \u001b[39mnot\u001b[39;00m n \u001b[39mand\u001b[39;00m b:\n\u001b[1;32m    505\u001b[0m     \u001b[39m# Ideally, we would raise IncompleteRead if the content-length\u001b[39;00m\n\u001b[1;32m    506\u001b[0m     \u001b[39m# wasn't satisfied, but it might break compatibility.\u001b[39;00m\n\u001b[1;32m    507\u001b[0m     \u001b[39mself\u001b[39m\u001b[39m.\u001b[39m_close_conn()\n",
      "File \u001b[0;32m/Library/Developer/CommandLineTools/Library/Frameworks/Python3.framework/Versions/3.9/lib/python3.9/socket.py:704\u001b[0m, in \u001b[0;36mSocketIO.readinto\u001b[0;34m(self, b)\u001b[0m\n\u001b[1;32m    702\u001b[0m \u001b[39mwhile\u001b[39;00m \u001b[39mTrue\u001b[39;00m:\n\u001b[1;32m    703\u001b[0m     \u001b[39mtry\u001b[39;00m:\n\u001b[0;32m--> 704\u001b[0m         \u001b[39mreturn\u001b[39;00m \u001b[39mself\u001b[39;49m\u001b[39m.\u001b[39;49m_sock\u001b[39m.\u001b[39;49mrecv_into(b)\n\u001b[1;32m    705\u001b[0m     \u001b[39mexcept\u001b[39;00m timeout:\n\u001b[1;32m    706\u001b[0m         \u001b[39mself\u001b[39m\u001b[39m.\u001b[39m_timeout_occurred \u001b[39m=\u001b[39m \u001b[39mTrue\u001b[39;00m\n",
      "File \u001b[0;32m/Library/Developer/CommandLineTools/Library/Frameworks/Python3.framework/Versions/3.9/lib/python3.9/ssl.py:1241\u001b[0m, in \u001b[0;36mSSLSocket.recv_into\u001b[0;34m(self, buffer, nbytes, flags)\u001b[0m\n\u001b[1;32m   1237\u001b[0m     \u001b[39mif\u001b[39;00m flags \u001b[39m!=\u001b[39m \u001b[39m0\u001b[39m:\n\u001b[1;32m   1238\u001b[0m         \u001b[39mraise\u001b[39;00m \u001b[39mValueError\u001b[39;00m(\n\u001b[1;32m   1239\u001b[0m           \u001b[39m\"\u001b[39m\u001b[39mnon-zero flags not allowed in calls to recv_into() on \u001b[39m\u001b[39m%s\u001b[39;00m\u001b[39m\"\u001b[39m \u001b[39m%\u001b[39m\n\u001b[1;32m   1240\u001b[0m           \u001b[39mself\u001b[39m\u001b[39m.\u001b[39m\u001b[39m__class__\u001b[39m)\n\u001b[0;32m-> 1241\u001b[0m     \u001b[39mreturn\u001b[39;00m \u001b[39mself\u001b[39;49m\u001b[39m.\u001b[39;49mread(nbytes, buffer)\n\u001b[1;32m   1242\u001b[0m \u001b[39melse\u001b[39;00m:\n\u001b[1;32m   1243\u001b[0m     \u001b[39mreturn\u001b[39;00m \u001b[39msuper\u001b[39m()\u001b[39m.\u001b[39mrecv_into(buffer, nbytes, flags)\n",
      "File \u001b[0;32m/Library/Developer/CommandLineTools/Library/Frameworks/Python3.framework/Versions/3.9/lib/python3.9/ssl.py:1099\u001b[0m, in \u001b[0;36mSSLSocket.read\u001b[0;34m(self, len, buffer)\u001b[0m\n\u001b[1;32m   1097\u001b[0m \u001b[39mtry\u001b[39;00m:\n\u001b[1;32m   1098\u001b[0m     \u001b[39mif\u001b[39;00m buffer \u001b[39mis\u001b[39;00m \u001b[39mnot\u001b[39;00m \u001b[39mNone\u001b[39;00m:\n\u001b[0;32m-> 1099\u001b[0m         \u001b[39mreturn\u001b[39;00m \u001b[39mself\u001b[39;49m\u001b[39m.\u001b[39;49m_sslobj\u001b[39m.\u001b[39;49mread(\u001b[39mlen\u001b[39;49m, buffer)\n\u001b[1;32m   1100\u001b[0m     \u001b[39melse\u001b[39;00m:\n\u001b[1;32m   1101\u001b[0m         \u001b[39mreturn\u001b[39;00m \u001b[39mself\u001b[39m\u001b[39m.\u001b[39m_sslobj\u001b[39m.\u001b[39mread(\u001b[39mlen\u001b[39m)\n",
      "\u001b[0;31mKeyboardInterrupt\u001b[0m: "
     ]
    }
   ],
   "source": [
    "# Load model directly\n",
    "from transformers import AutoTokenizer, AutoModelForCausalLM\n",
    "\n",
    "tokenizer = AutoTokenizer.from_pretrained(\"berkeley-nest/Starling-LM-7B-alpha\")\n",
    "model = AutoModelForCausalLM.from_pretrained(\"berkeley-nest/Starling-LM-7B-alpha\")"
   ]
  },
  {
   "cell_type": "code",
   "execution_count": 4,
   "metadata": {},
   "outputs": [
    {
     "name": "stdout",
     "output_type": "stream",
     "text": [
      "0.27.7\n"
     ]
    }
   ],
   "source": [
    "import openai\n",
    "import os\n",
    "\n",
    "openai.api_key = os.environ[\"OPENAI_API_KEY\"]\n",
    "\n",
    "# show version of openai\n",
    "print(openai.__version__)\n"
   ]
  },
  {
   "cell_type": "code",
   "execution_count": 2,
   "metadata": {},
   "outputs": [],
   "source": [
    "message = \"\"\"\n",
    "1.\tDanmark kan ikke leve af gæld.\n",
    "2.\tEfter et regeringsskifte vil den økonomiske politik bygge på et meget klart forsigtighedsprincip.\n",
    "3.\tVi vil oprette et agentur mod falske nyheder, der udarbejder modsvar og korrigerer falske nyhedshistorier i Danmark.\n",
    "4.\tLige netop sygeskatten kunne have været et udspil, som LO og DA kunne have brugt selv til at få forhandlingerne på gled igen - alt i alt et indgreb og en lovgivning, der er tydeligt præget af at være udarbejdet af politikere fra Overdanmark med funktionærverdenen som eneste erfaringsgrundlag og uden særlig meget viden om, hvor skoen trykker.\n",
    "5.\tHK har ønsket at få kønsopdelt lønstatistik.\n",
    "6.\tSå jeg synes, det er ret svært, når man skal igennem de her ting, og jeg synes heller ikke, vi kan være bekendt, at noget, der er så vigtigt som forbrugernes sikkerhed, når det gælder medicin, skal puttes ind sammen med en hel masse andre ting.\n",
    "7.\tGrænseoverskridende problemer må løses gennem et grænseoverskridende samarbejde.\n",
    "8.\tForskellen mellem virkningerne på beskæftigelse og arbejdsløshed ligger i den øgede uddannelsesindsats.\n",
    "9.\tDet er sådan, at jeg lige har været inde at tjekke min ordførertale, så jeg ikke skulle få samme svada fra hr.\n",
    "10.\tDet ene er at give borgerne mulighed for frit at kunne rejse rundt i Europa, så de f.eks. ikke skal stå i lange køer, når de skal på ferie nede sydpå.\n",
    "11.\tDerfor har vi også i den seneste folketingsperiode givet forsvaret det substantielle løft, som vi lovede, at der ville komme.\n",
    "12.\tDansk Folkeparti har her fremsat et beslutningsforslag, der pålægger regeringen at arbejde for en ændring af reglerne for EF-Domstolens arbejde, og så vidt jeg ved, skal det drøftes den 13. marts.\n",
    "13.\tVi skal være bedre til at få nye idéer omsat til produktion.\n",
    "14.\tVi har selvfølgelig noteret os, at der ikke er flertal for vores forslag.\n",
    "15.\tVed at starte en forbudsprocedure med udgangspunkt i listen over uønskede stoffer og de hormonforstyrrende kategori 1-stoffer i kosmetik tages et vigtigt skridt i den rigtige retning.\n",
    "16.\tMænd og kvinder og i øvrigt alle andre grupper skal have lige muligheder for at udfylde deres personlige potentiale.\n",
    "17.\tUndervejs har vi truffet hårde beslutninger.\n",
    "18.\tRegeringen magtede ikke at fortsætte en politik, som kunne forbedre erhvervslivets forhold.\n",
    "19.\tDerfor undrer det mig, at der er så meget tvivl, og at man kan tro, at vi vil tage 20 pct. af de unge mennesker ind i den her ordning.\n",
    "20.\tSå det går da trods alt, også i forhold til tallene fra sidste år, den rigtige vej.\n",
    "\"\"\"\n"
   ]
  },
  {
   "cell_type": "code",
   "execution_count": null,
   "metadata": {},
   "outputs": [],
   "source": [
    "# Note: you need to be using OpenAI Python v0.27.0 for the code below to work\n",
    "import openai\n",
    "\n",
    "response = openai.ChatCompletion.create(\n",
    "  model=\"gpt-3.5-turbo\",\n",
    "  messages=[\n",
    "        {\"role\": \"system\", \"content\": \"Paraphrase the following sentence (in Danish): \"},\n",
    "        {\"role\": \"user\", \"content\": message},\n",
    "    ]\n",
    ")"
   ]
  },
  {
   "cell_type": "code",
   "execution_count": 5,
   "metadata": {},
   "outputs": [
    {
     "data": {
      "text/plain": [
       "'1. Danmark kan ikke overleve ved at have gæld.\\n2. Efter et regeringsskifte vil den økonomiske politik være baseret på et klart forsigtighedsprincip.\\n3. Vi vil etablere en agentur mod falske nyheder, som vil udarbejde modsvar og rette falske nyhedshistorier i Danmark.\\n4. Netop sygeskat kunne have været et udspil, som LO og DA selv kunne have brugt til at få forhandlingerne på sporet igen - alt i alt en indgriben og lovgivning, som tydeligvis er udviklet af politikere fra Overdanmark med kun funktionsverdenen som deres erfaringsgrundlag og uden særlig meget viden om, hvor problemet ligger.\\n5. HK har ønsket at få opdelt lønstatistik efter køn.\\n6. Så jeg synes, det er ret svært, når man skal igennem alt dette, og jeg synes heller ikke, at det er forsvarligt, at noget, der er så vigtigt som forbrugernes sikkerhed vedrørende medicin, bliver bundtet sammen med en masse andre ting.\\n7. Problemer på tværs af grænser skal løses gennem et internationalt samarbejde.\\n8. Forskellen mellem effekten på beskæftigelse og arbejdsløshed ligger i den øgede fokus på uddannelse.\\n9. Sådan er det, lige efter jeg har tjekket min ordførertale, så jeg ikke får samme nedsmeltning fra hr.\\n10. Det ene er at give borgerne mulighed for frit at rejse rundt i Europa, så de ikke skal stå i lange køer, når de skal på ferie sydpå.\\n11. Derfor har vi i den seneste folketingssession også givet forsvaret det betydelige løft, vi lovede.\\n12. Dansk Folkeparti har fremsat et beslutningsforslag her, der pålægger regeringen at arbejde for en ændring af EF-Domstolens funktion, og så vidt jeg ved, skal det drøftes den 13. marts.\\n13. Vi skal blive bedre til at omsætte nye idéer til produktion.\\n14. Vi har naturligvis noteret os, at vores forslag ikke har flertal.\\n15. Ved at igangsætte en forbudsprocedure baseret på listen over uønskede stoffer og kategori 1 hormonforstyrrende stoffer i kosmetik, tager vi et vigtigt skridt i den rigtige retning.\\n16. Mænd og kvinder, og i virkeligheden alle andre grupper, skal have lige muligheder for at opfylde deres personlige potentiale.\\n17. Undervejs har vi truffet svære beslutninger.\\n18. Regeringen var ikke i stand til at fortsætte en politik, der kunne forbedre forholdene for erhvervslivet.\\n19. Derfor undrer det mig, at der er så meget tvivl, og at man kan tro, at vi vil inkludere 20 pct. af de unge i denne ordning.\\n20. Så det går da fremad, også i forhold til tallene fra sidste år.'"
      ]
     },
     "execution_count": 5,
     "metadata": {},
     "output_type": "execute_result"
    }
   ],
   "source": [
    "# show completed chat\n",
    "response['choices'][0]['message']['content']"
   ]
  },
  {
   "cell_type": "code",
   "execution_count": 5,
   "metadata": {},
   "outputs": [
    {
     "data": {
      "text/plain": [
       "array([[0.987843]], dtype=float32)"
      ]
     },
     "execution_count": 5,
     "metadata": {},
     "output_type": "execute_result"
    }
   ],
   "source": [
    "from sentence_transformers import SentenceTransformer\n",
    "sentences = [\"This is an example sentence\", \"This is example sentence\"]\n",
    "\n",
    "model = SentenceTransformer('sentence-transformers/paraphrase-multilingual-MiniLM-L12-v2')\n",
    "embeddings = model.encode(sentences)\n",
    "#print(embeddings)\n",
    "\n",
    "# print cosine-similarities betwen the sentences\n",
    "from sklearn.metrics.pairwise import cosine_similarity\n",
    "cosine_similarity([embeddings[0]], [embeddings[1]])"
   ]
  },
  {
   "cell_type": "code",
   "execution_count": 18,
   "metadata": {},
   "outputs": [
    {
     "name": "stdout",
     "output_type": "stream",
     "text": [
      "1731\n",
      "1732\n"
     ]
    }
   ],
   "source": [
    "import pandas as pd\n",
    "\n",
    "paraphrasings = pd.read_csv(\"data/paraphrasings_new.csv\")\n",
    "paraphrased_texts = paraphrasings[\"New\"].tolist()\n",
    "\n",
    "print(len(paraphrased_texts))\n",
    "\n",
    "original = pd.read_csv(\"data/train_data.csv\")\n",
    "original_texts = original[\"text\"].tolist()\n",
    "print(len(original_texts))\n",
    "\n",
    "\n",
    "\n",
    "# concatenate the two dataframes\n",
    "#df = pd.concat([original, paraphrasings], axis=0, ignore_index=True)"
   ]
  },
  {
   "cell_type": "code",
   "execution_count": 21,
   "metadata": {},
   "outputs": [
    {
     "data": {
      "text/plain": [
       "0       Det kan jo slet ikke forslå. Men den regnemeto...\n",
       "1       Tidligere kunne fortælle, at en tysk burgerkæd...\n",
       "2       Nej. Og det er jeg også imod per princip. Man ...\n",
       "3       Jeg synes faktisk, det sprogligt har været svæ...\n",
       "4       Den er faktisk lidt sjov. Hvem er homofobisk -...\n",
       "                              ...                        \n",
       "1727    🔥🔥 at du ikke har Bosa på. Er det hans seneste...\n",
       "1728    Interessant medieinitiativ på Nørrebro #dkmedi...\n",
       "1729    #ElskDenDuVil\\n@USER #fckob\\nGi’ homofobien 🏳️...\n",
       "1730    Domstol lukker thailandsk parti for at nominer...\n",
       "1731    ⚽️ Der er i dag 1 #fodbold kampe/events mere, ...\n",
       "Name: text, Length: 1732, dtype: object"
      ]
     },
     "execution_count": 21,
     "metadata": {},
     "output_type": "execute_result"
    }
   ],
   "source": [
    "original.iloc[:,1]"
   ]
  },
  {
   "cell_type": "code",
   "execution_count": 17,
   "metadata": {},
   "outputs": [
    {
     "name": "stdout",
     "output_type": "stream",
     "text": [
      "['0 Efter et politisk skift vil økonomien bygge på meget sikre beslutninger.\\n    1 Et nyt regeringsskifte vil føre til en helt nyskabende økonomisk politik, grundet størst forsigtighed.\\n    2 Vi skal danne et foretagen mod u Sand News, der arbejder på at udvikle svar og rette urigtige nyheder i Danmark.\\n    3 LO og DA kunne have brugt sygeskatten som udspil for genoptagelsen af forhandlinger - en politisk handling skabt af repræsentanter for bedre klasse baseret på funktionærkunderkundskab og uden indsigt i konkrete problemer.\\n    4 HK ønsker statistikker over lønninger, opdelt efter køn, og det ville være interessant at se, hvor meget forskel der er mellem mænd og kvinder.', '2. Er der et regeringsskifte, vil den nye økonomiske politik være baseret på en meget', '2. Danmark kan ikke leve af gæld -> 2. Det er uundgåeligt, at skifte i regeringen vil føre til en forsigtigere økonomisk politik.\\n    3. Efter et regeringsskifte vil den økonomiske politik bygge på et meget klart forsigtighedsprincip -> 3. En nye regering vil være trued af skiftende økonomiske politikker.\\n    4. Vi vil oprette et agentur mod falske nyheder, der udarbejder modsvar og korrigerer falske nyhedshistorier i Danmark -> 4. Et nyt regeringsskifte vil føre til oprettelsen af en organisation, der arbejder for at bekæmpe fake news og rette urigtige nyheder.\\n    5. Sygeskatten kunne have været noget, som LO og DA kunne have brugt selv til selv at sætte gang i forhandlingerne igen - i sidste ende en politisk handling og lovgivning, der tydeligvis er skabt af politikere fra den bedre del af samfundet, kun baseret på erfaringer fra administrativt arbejde og med begrænset indsigt i de konkrete problemer. -> 5. Lønorganisationerne LO og DA kunne have anvendt sygeskatten som et middel til at genoptage forhandlinger, der imidlertid viser sig at være politisk motiverede og tydeligvis udarbejdet af politikere fra Overdanmark med funktionærverdenen som eneste erfaringsgrundlag og uden særlig meget viden om, hvor skoen trykker.\\n    6. HK har udtrykt ønske om statistikker over lønninger opdelt efter køn. -> 6. HK fremhæver behovet for statistikker angående lønninger, som er inddelt efter køn.']\n",
      "['Det kan jo slet ikke forslå. Men den regnemetode som Finansministeriet benytter skal du forvente at der skal forhøjes med yderligere kr. 225.000 oven i det som den enkelte skal have.\\nDet bliver megadyret og er vel grunden til at V ikke har fremlagt noget. #dkpol', 'Tidligere kunne fortælle, at en tysk burgerkæde er på vej, i sidste uge, at Garage Burger åbner i Fredericia og snart kan vi også se frem til en ny restaurant i det gamle Kims Køkken i Jyllandsgade 47.', 'Nej. Og det er jeg også imod per princip. Man må heller ikke rende på Farum Park med et banner der står \"Free Brixtofte\" på. Jeg læste - måske mellem linjerne - som at at \\'nedsættende\\' chants skal være forbudte. Og her kræver det altså lige noget omtanke. Der er ikke noget ..']\n"
     ]
    }
   ],
   "source": [
    "print(paraphrased_texts[0:3])\n",
    "print(original_texts[0:3])"
   ]
  },
  {
   "cell_type": "code",
   "execution_count": 4,
   "metadata": {},
   "outputs": [
    {
     "data": {
      "text/plain": [
       "Index(['Original', 'New', 'semantic_similarity'], dtype='object')"
      ]
     },
     "execution_count": 4,
     "metadata": {},
     "output_type": "execute_result"
    }
   ],
   "source": [
    "df.columns"
   ]
  },
  {
   "cell_type": "code",
   "execution_count": 6,
   "metadata": {},
   "outputs": [
    {
     "data": {
      "text/plain": [
       "(array([ 7., 11.,  8.,  4.,  5.,  4., 10.,  9.,  7.,  7.,  6., 14.,  7.,\n",
       "         9.,  7., 10., 12.,  9.,  4.,  9., 12.,  9., 11., 13.,  7.,  6.,\n",
       "         7.,  9.,  9., 11., 17., 11., 16.,  8., 12., 11., 10., 14., 19.,\n",
       "        14., 16., 12., 18., 12., 17., 10., 13., 17., 12., 19., 23., 17.,\n",
       "        18., 13., 19., 15., 12., 11., 22., 11., 22., 17., 25., 16., 21.,\n",
       "        14., 17., 24.,  9., 22., 15., 20., 23., 14., 12., 15., 21., 22.,\n",
       "        12., 23., 24., 14., 22., 20., 21., 15., 15., 17.,  9., 20., 12.,\n",
       "         8.,  9.,  9.,  7.,  7.,  6.,  4.,  2.,  5.]),\n",
       " array([0.7002096 , 0.70309517, 0.70598074, 0.70886632, 0.71175189,\n",
       "        0.71463746, 0.71752304, 0.72040861, 0.72329418, 0.72617975,\n",
       "        0.72906532, 0.7319509 , 0.73483647, 0.73772204, 0.74060761,\n",
       "        0.74349319, 0.74637876, 0.74926433, 0.75214991, 0.75503548,\n",
       "        0.75792105, 0.76080662, 0.76369219, 0.76657777, 0.76946334,\n",
       "        0.77234891, 0.77523449, 0.77812006, 0.78100563, 0.7838912 ,\n",
       "        0.78677677, 0.78966235, 0.79254792, 0.79543349, 0.79831907,\n",
       "        0.80120464, 0.80409021, 0.80697578, 0.80986136, 0.81274693,\n",
       "        0.8156325 , 0.81851807, 0.82140364, 0.82428922, 0.82717479,\n",
       "        0.83006036, 0.83294594, 0.83583151, 0.83871708, 0.84160265,\n",
       "        0.84448822, 0.8473738 , 0.85025937, 0.85314494, 0.85603052,\n",
       "        0.85891609, 0.86180166, 0.86468723, 0.86757281, 0.87045838,\n",
       "        0.87334395, 0.87622952, 0.87911509, 0.88200067, 0.88488624,\n",
       "        0.88777181, 0.89065739, 0.89354296, 0.89642853, 0.8993141 ,\n",
       "        0.90219967, 0.90508525, 0.90797082, 0.91085639, 0.91374197,\n",
       "        0.91662754, 0.91951311, 0.92239868, 0.92528425, 0.92816983,\n",
       "        0.9310554 , 0.93394097, 0.93682654, 0.93971212, 0.94259769,\n",
       "        0.94548326, 0.94836884, 0.95125441, 0.95413998, 0.95702555,\n",
       "        0.95991112, 0.9627967 , 0.96568227, 0.96856784, 0.97145342,\n",
       "        0.97433899, 0.97722456, 0.98011013, 0.9829957 , 0.98588128,\n",
       "        0.98876685]),\n",
       " <BarContainer object of 100 artists>)"
      ]
     },
     "execution_count": 6,
     "metadata": {},
     "output_type": "execute_result"
    },
    {
     "data": {
      "image/png": "[encoded data removed]",
      "text/plain": [
       "<Figure size 640x480 with 1 Axes>"
      ]
     },
     "metadata": {},
     "output_type": "display_data"
    }
   ],
   "source": [
    "import pandas as pd\n",
    "\n",
    "# read csv\n",
    "df = pd.read_csv(\"data/twitter_data_paraphrasings_w_semantics.csv\")\n",
    "\n",
    "#plot semantic_similarity in df\n",
    "import matplotlib.pyplot as plt\n",
    "plt.hist(df['semantic_similarity'], bins=100)\n",
    "# put a title and labels\n",
    "plt.title('Semantic similarity')\n",
    "plt.xlabel('Semantic similarity')\n",
    "plt.ylabel('Number of paraphrasings')\n",
    "\n",
    "# filter out paraphrasings with semantic similarity < 0.7\n",
    "df_semantic_below_7 = df[df['semantic_similarity'] >= 0.7]\n",
    "plt.hist(df_semantic_below_7['semantic_similarity'], bins=100)\n"
   ]
  },
  {
   "cell_type": "code",
   "execution_count": 8,
   "metadata": {},
   "outputs": [
    {
     "name": "stdout",
     "output_type": "stream",
     "text": [
      "1302\n",
      "1732\n"
     ]
    }
   ],
   "source": [
    "print(len(df_semantic_below_7))\n",
    "print(len(df))"
   ]
  },
  {
   "cell_type": "code",
   "execution_count": null,
   "metadata": {},
   "outputs": [],
   "source": []
  }
 ],
 "metadata": {
  "kernelspec": {
   "display_name": "Python 3",
   "language": "python",
   "name": "python3"
  },
  "language_info": {
   "codemirror_mode": {
    "name": "ipython",
    "version": 3
   },
   "file_extension": ".py",
   "mimetype": "text/x-python",
   "name": "python",
   "nbconvert_exporter": "python",
   "pygments_lexer": "ipython3",
   "version": "3.9.6"
  }
 },
 "nbformat": 4,
 "nbformat_minor": 2
}
